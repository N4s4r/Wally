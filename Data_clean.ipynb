{
 "cells": [
  {
   "cell_type": "code",
   "execution_count": 1,
   "id": "04e83315-8240-4f28-92f3-e0a447222580",
   "metadata": {},
   "outputs": [],
   "source": [
    "import pandas as pd\n",
    "import numpy as np\n",
    "import matplotlib.pyplot as plt\n",
    "import seaborn as sns"
   ]
  },
  {
   "cell_type": "markdown",
   "id": "001be7bd-4216-4fce-a75f-826af359d66b",
   "metadata": {},
   "source": [
    "# Reading data"
   ]
  },
  {
   "cell_type": "code",
   "execution_count": 2,
   "id": "4d59a689-cc5a-4b64-8c25-3ec96378de49",
   "metadata": {},
   "outputs": [
    {
     "data": {
      "text/plain": [
       "114276"
      ]
     },
     "execution_count": 2,
     "metadata": {},
     "output_type": "execute_result"
    }
   ],
   "source": [
    "# read train data\n",
    "df_orders = pd.read_csv(\"DATA/orders.csv\", sep=\";\")\n",
    "df_products = pd.read_csv(\"DATA/product_attributes.csv\", sep=\",\")\n",
    "df_products.loc[len(df_products)] = [-1, 1303.3, 2]\n",
    "df_dists = pd.read_csv(\"DATA/cities_data.csv\", sep=\";\")\n",
    "\n",
    "# read test data\n",
    "df_test = pd.read_csv(\"DATA/test.csv\", sep=\";\")\n",
    "\n",
    "len(df_orders)"
   ]
  },
  {
   "cell_type": "markdown",
   "id": "9212eb23-a02b-4e39-a3dd-5839a8fa8283",
   "metadata": {},
   "source": [
    "## cities_data.csv"
   ]
  },
  {
   "cell_type": "code",
   "execution_count": 3,
   "id": "c665fd69-8fcf-43d6-8b64-c8280a2dc9b5",
   "metadata": {},
   "outputs": [],
   "source": [
    "df_dists = pd.read_csv(\"DATA/cities_data.csv\", sep=\";\")\n",
    "df_aux2 = pd.DataFrame({'city_to_name':[],'city_from_name':[], 'city_to_coord':[], 'city_from_coord':[], 'distance':[]})\n",
    "\n",
    "#Afegim duplicats\n",
    "df_aux = df_dists.copy()\n",
    "df_aux['city_from_name'] = df_dists['city_to_name']\n",
    "df_aux['city_to_name'] = df_dists['city_from_name']\n",
    "df_aux['city_to_coord'] = df_dists['city_from_coord']\n",
    "df_aux['city_from_coord'] = df_dists['city_to_coord']\n",
    "\n",
    "\n",
    "#Afefim ciutat a ella mateixa\n",
    "df_aux4 = df_dists[['city_from_name', 'city_from_coord']].copy().drop_duplicates()\n",
    "df_aux5 = df_dists[['city_to_name', 'city_to_coord']].copy().drop_duplicates()\n",
    "df_aux3 = pd.concat([df_aux4, df_aux5.rename(columns ={'city_to_name':'city_from_name', 'city_to_coord':'city_from_coord'})]).drop_duplicates()\n",
    "\n",
    "df_aux2['city_from_name'] = df_aux3['city_from_name']\n",
    "df_aux2['city_from_coord'] = df_aux3['city_from_coord']\n",
    "df_aux2['city_to_name'] = df_aux3['city_from_name']\n",
    "df_aux2['city_to_coord'] = df_aux3['city_from_coord']\n",
    "df_aux2['distance'] = 0\n",
    "\n",
    "\n",
    "df_dists = pd.concat([df_dists, df_aux])\n",
    "df_dists = pd.concat([df_dists, df_aux2])"
   ]
  },
  {
   "cell_type": "markdown",
   "id": "939162a3-db75-4467-857b-0348d72cd095",
   "metadata": {},
   "source": [
    "## orders.csv"
   ]
  },
  {
   "cell_type": "code",
   "execution_count": 4,
   "id": "7323f57e-b01d-4904-8339-8a71ff92c6a2",
   "metadata": {
    "tags": []
   },
   "outputs": [],
   "source": [
    "# Refactor variables\n",
    "def bool2int(row, col):\n",
    "    row[col] = int(row[col])\n",
    "    return row\n",
    "\n",
    "def clean_cities(row, col):\n",
    "    if row[col] == \"BCN\":\n",
    "        row[col] = \"Barcelona\"\n",
    "    if row[col] == \"ATHENAS\":\n",
    "        row[col] = \"Athens\"\n",
    "    return row\n",
    "\n",
    "df_orders = df_orders.apply(lambda row: bool2int(row, \"late_order\"), axis = 1)\n",
    "df_orders = df_orders.apply(lambda row: clean_cities(row, \"origin_port\"), axis = 1)"
   ]
  },
  {
   "cell_type": "code",
   "execution_count": 5,
   "id": "7ba1dda7-f974-496d-a66a-8d0e45227368",
   "metadata": {},
   "outputs": [],
   "source": [
    "# dummies in categorical columns\n",
    "col2prefix = {\n",
    "    \"origin_port\":\"OP\",\n",
    "    \"3pl\":\"3pl\",\n",
    "    \"customs_procedures\":\"CP\",\n",
    "    \"logistic_hub\":\"LH\",\n",
    "    \"customer\":\"customer\"\n",
    "}\n",
    "\n",
    "for col, prefix in col2prefix.items():\n",
    "    df = pd.get_dummies(df_orders[col], prefix=prefix, drop_first=False)\n",
    "    df = pd.DataFrame(df_orders[col]).join(df).drop_duplicates()\n",
    "    df_orders = pd.merge(df_orders, df, how='inner', on=col)"
   ]
  },
  {
   "cell_type": "code",
   "execution_count": 6,
   "id": "2c6424c7-04f0-408a-9c65-1812c85f87a0",
   "metadata": {},
   "outputs": [],
   "source": [
    "def decompose_coordinates(row, prefix = None):\n",
    "    latitude = float(row.city_coords[1:-1].split(', ')[0])\n",
    "    longitude = float(row.city_coords[1:-1].split(', ')[1])\n",
    "    if not prefix:\n",
    "        return pd.Series({'latitude': latitude, 'longitude': longitude})\n",
    "    return pd.Series({f\"{prefix}_latitude\": latitude, f\"{prefix}_longitude\": longitude})\n",
    "\n",
    "city2coord = dict()\n",
    "\n",
    "new_df_dists = df_dists.copy()\n",
    "\n",
    "for index, row in new_df_dists.iterrows():\n",
    "    name1 = row[\"city_from_name\"]\n",
    "    name2 = row[\"city_to_name\"]\n",
    "    coord1 = row[\"city_from_coord\"]\n",
    "    coord2 = row[\"city_to_coord\"]\n",
    "    city2coord[name1] = coord1\n",
    "    city2coord[name2] = coord2\n",
    "    \n",
    "\n",
    "df_cities = pd.DataFrame({\n",
    "    \"city_name\":list(city2coord.keys()),\n",
    "    \"city_coords\":list(city2coord.values())\n",
    "})\n",
    "coords_decomposed = df_cities.apply(lambda x: decompose_coordinates(x), axis=1)\n",
    "df_cities['latitude'] = coords_decomposed['latitude']\n",
    "df_cities['longitude'] = coords_decomposed['longitude']\n",
    "df_cities = df_cities.drop(columns=['city_coords'])"
   ]
  },
  {
   "cell_type": "code",
   "execution_count": 7,
   "id": "fcd0ad3e-593f-4a9b-84bd-d63c65e109f7",
   "metadata": {},
   "outputs": [],
   "source": [
    "# Join city data\n",
    "col2coord_prefix = {\n",
    "    \"origin_port\":\"OP\",\n",
    "    \"logistic_hub\":\"LH\",\n",
    "    \"customer\":\"customer\"\n",
    "}\n",
    "\n",
    "for col, prefix in col2coord_prefix.items():\n",
    "    df_orders = pd.merge(df_orders, df_cities, how='left', left_on=col, right_on=\"city_name\")\n",
    "    df_orders.drop(columns=['city_name'], inplace=True)\n",
    "    df_orders = df_orders.rename(columns={\"latitude\":f\"{prefix}_latitude\", \"longitude\":f\"{prefix}_longitude\"})"
   ]
  },
  {
   "cell_type": "code",
   "execution_count": 8,
   "id": "8e5f0b85-f94a-4073-b0be-2d0903da07ae",
   "metadata": {},
   "outputs": [],
   "source": [
    "#AFEGIM DISTANCIES D'ORDRES AMB HUB CENTRAL\n",
    "df_Hub = df_orders[df_orders.logistic_hub.isna() == False]\n",
    "\n",
    "df_dists_aux = pd.DataFrame({'city_from_name2':[], 'city_to_name2':[], 'distance2':[]})\n",
    "df_dists_aux['city_from_name2'] = df_dists['city_from_name']\n",
    "df_dists_aux['city_to_name2'] = df_dists['city_to_name']\n",
    "df_dists_aux['distance2'] = df_dists['distance']\n",
    "\n",
    "df_order_distance_aux = pd.merge(df_Hub,df_dists, how = 'inner', left_on = ['origin_port', 'logistic_hub'], right_on = ['city_to_name', 'city_from_name'])\n",
    "df_order_distance = pd.merge(df_order_distance_aux,df_dists_aux, how = 'inner', left_on = ['logistic_hub', 'customer'], right_on = ['city_to_name2', 'city_from_name2'])\n",
    "df_order_distance = df_order_distance.rename(columns = {'distance':'distance1'})\n",
    "\n",
    "#AFEGIM DISTANCIES D'ORDRES SENSE HUB CENTRAL\n",
    "df_noHub = df_orders[df_orders.logistic_hub.isna() == True]\n",
    "df_order_distance3 = pd.merge(df_noHub,df_dists, how = 'inner', left_on = ['origin_port', 'customer'], right_on = ['city_to_name', 'city_from_name'])\n",
    "df_order_distance3 = df_order_distance3.rename(columns = {'distance':'distance1'})\n",
    "df_order_distance3['distance2'] = 0\n",
    "\n",
    "df_order_distance = pd.concat([df_order_distance, df_order_distance3])\n",
    "df_orders = df_order_distance.drop(columns = ['city_to_name', 'city_from_name', 'city_to_coord', 'city_from_coord', 'city_to_name2', 'city_from_name2'])"
   ]
  },
  {
   "cell_type": "code",
   "execution_count": 9,
   "id": "692b30d0-5156-4625-95e8-5309a9363f24",
   "metadata": {},
   "outputs": [],
   "source": [
    "df_orders = pd.merge(df_orders, df_products, how='left', on=\"product_id\")"
   ]
  },
  {
   "cell_type": "code",
   "execution_count": 10,
   "id": "eb52cb27-4c6b-4b55-a716-90be78a7a51c",
   "metadata": {},
   "outputs": [],
   "source": [
    "cols2remove = [\n",
    "    \"product_id\",\n",
    "    \"order_id\",\n",
    "    \"origin_port\",\n",
    "    \"3pl\",\n",
    "    \"customs_procedures\",\n",
    "    \"logistic_hub\",\n",
    "    \"customer\"\n",
    "]\n",
    "\n",
    "df_orders.drop(columns=cols2remove, inplace=True)"
   ]
  },
  {
   "cell_type": "code",
   "execution_count": 11,
   "id": "b32539e0-e673-4e57-94ee-9b9f4a12f031",
   "metadata": {},
   "outputs": [],
   "source": [
    "df_orders.to_csv(\"NEW_DATA/train.csv\", index=False)"
   ]
  },
  {
   "cell_type": "markdown",
   "id": "748d64d1-90c1-4bbb-822e-ae5841d482c0",
   "metadata": {},
   "source": [
    "## test.csv"
   ]
  },
  {
   "cell_type": "code",
   "execution_count": 12,
   "id": "b6be5a8f-f0e7-4652-b9cb-00f8376df23e",
   "metadata": {
    "tags": []
   },
   "outputs": [],
   "source": [
    "# Refactor variables\n",
    "def clean_cities(row, col):\n",
    "    if row[col] == \"BCN\":\n",
    "        row[col] = \"Barcelona\"\n",
    "    if row[col] == \"ATHENAS\":\n",
    "        row[col] = \"Athens\"\n",
    "    return row\n",
    "\n",
    "df_test = df_test.apply(lambda row: clean_cities(row, \"origin_port\"), axis = 1)\n",
    "df_test.reset_index(drop=True, inplace=True)\n",
    "df_test[\"my_index\"] = df_test.index.copy()"
   ]
  },
  {
   "cell_type": "code",
   "execution_count": 13,
   "id": "68ffcc69-9037-41dc-8f24-7ec9d074be1f",
   "metadata": {},
   "outputs": [],
   "source": [
    "# dummies in categorical columns\n",
    "col2prefix = {\n",
    "    \"origin_port\":\"OP\",\n",
    "    \"3pl\":\"3pl\",\n",
    "    \"customs_procedures\":\"CP\",\n",
    "    \"logistic_hub\":\"LH\",\n",
    "    \"customer\":\"customer\"\n",
    "}\n",
    "\n",
    "for col, prefix in col2prefix.items():\n",
    "    df = pd.get_dummies(df_test[col], prefix=prefix, drop_first=False)\n",
    "    df = pd.DataFrame(df_test[col]).join(df).drop_duplicates()\n",
    "    df_test = pd.merge(df_test, df, how='inner', on=col)"
   ]
  },
  {
   "cell_type": "code",
   "execution_count": 14,
   "id": "d4fcaa52-d5bc-4156-8319-089c785b57d1",
   "metadata": {},
   "outputs": [],
   "source": [
    "def decompose_coordinates(row, prefix = None):\n",
    "    latitude = float(row.city_coords[1:-1].split(', ')[0])\n",
    "    longitude = float(row.city_coords[1:-1].split(', ')[1])\n",
    "    if not prefix:\n",
    "        return pd.Series({'latitude': latitude, 'longitude': longitude})\n",
    "    return pd.Series({f\"{prefix}_latitude\": latitude, f\"{prefix}_longitude\": longitude})\n",
    "\n",
    "city2coord = dict()\n",
    "\n",
    "new_df_dists = df_dists.copy()\n",
    "\n",
    "for index, row in new_df_dists.iterrows():\n",
    "    name1 = row[\"city_from_name\"]\n",
    "    name2 = row[\"city_to_name\"]\n",
    "    coord1 = row[\"city_from_coord\"]\n",
    "    coord2 = row[\"city_to_coord\"]\n",
    "    city2coord[name1] = coord1\n",
    "    city2coord[name2] = coord2\n",
    "    \n",
    "\n",
    "df_cities = pd.DataFrame({\n",
    "    \"city_name\":list(city2coord.keys()),\n",
    "    \"city_coords\":list(city2coord.values())\n",
    "})\n",
    "coords_decomposed = df_cities.apply(lambda x: decompose_coordinates(x), axis=1)\n",
    "df_cities['latitude'] = coords_decomposed['latitude']\n",
    "df_cities['longitude'] = coords_decomposed['longitude']\n",
    "df_cities = df_cities.drop(columns=['city_coords'])"
   ]
  },
  {
   "cell_type": "code",
   "execution_count": 15,
   "id": "a422e5d3-f0fa-4b29-bcab-ead657b162a3",
   "metadata": {},
   "outputs": [],
   "source": [
    "# Join city data\n",
    "col2coord_prefix = {\n",
    "    \"origin_port\":\"OP\",\n",
    "    \"logistic_hub\":\"LH\",\n",
    "    \"customer\":\"customer\"\n",
    "}\n",
    "\n",
    "for col, prefix in col2coord_prefix.items():\n",
    "    df_test = pd.merge(df_test, df_cities, how='left', left_on=col, right_on=\"city_name\")\n",
    "    df_test.drop(columns=['city_name'], inplace=True)\n",
    "    df_test = df_test.rename(columns={\"latitude\":f\"{prefix}_latitude\", \"longitude\":f\"{prefix}_longitude\"})"
   ]
  },
  {
   "cell_type": "code",
   "execution_count": 16,
   "id": "bc1aefdc-2dfa-4423-a3e4-79b39ddf80e6",
   "metadata": {},
   "outputs": [],
   "source": [
    "#AFEGIM DISTANCIES D'ORDRES AMB HUB CENTRAL\n",
    "df_Hub = df_test[df_test.logistic_hub.isna() == False]\n",
    "\n",
    "df_dists_aux = pd.DataFrame({'city_from_name2':[], 'city_to_name2':[], 'distance2':[]})\n",
    "df_dists_aux['city_from_name2'] = df_dists['city_from_name']\n",
    "df_dists_aux['city_to_name2'] = df_dists['city_to_name']\n",
    "df_dists_aux['distance2'] = df_dists['distance']\n",
    "\n",
    "df_order_distance_aux = pd.merge(df_Hub,df_dists, how = 'inner', left_on = ['origin_port', 'logistic_hub'], right_on = ['city_to_name', 'city_from_name'])\n",
    "df_order_distance = pd.merge(df_order_distance_aux,df_dists_aux, how = 'inner', left_on = ['logistic_hub', 'customer'], right_on = ['city_to_name2', 'city_from_name2'])\n",
    "df_order_distance = df_order_distance.rename(columns = {'distance':'distance1'})\n",
    "\n",
    "#AFEGIM DISTANCIES D'ORDRES SENSE HUB CENTRAL\n",
    "df_noHub = df_test[df_test.logistic_hub.isna() == True]\n",
    "df_order_distance3 = pd.merge(df_noHub, df_dists, how = 'inner', left_on = ['origin_port', 'customer'], right_on = ['city_to_name', 'city_from_name'])\n",
    "df_order_distance3 = df_order_distance3.rename(columns = {'distance':'distance1'})\n",
    "df_order_distance3['distance2'] = 0\n",
    "\n",
    "df_order_distance = pd.concat([df_order_distance, df_order_distance3])\n",
    "df_test = df_order_distance.drop(columns = ['city_to_name', 'city_from_name', 'city_to_coord', 'city_from_coord', 'city_to_name2', 'city_from_name2'])"
   ]
  },
  {
   "cell_type": "code",
   "execution_count": 17,
   "id": "ae5d900a-1c82-4722-b050-1d4c705cb820",
   "metadata": {},
   "outputs": [],
   "source": [
    "df_test = pd.merge(df_test, df_products, how='left', on=\"product_id\")"
   ]
  },
  {
   "cell_type": "code",
   "execution_count": 18,
   "id": "3e19f742-9138-4eb2-8d78-b77e4091502b",
   "metadata": {},
   "outputs": [],
   "source": [
    "cols2remove = [\n",
    "    \"product_id\",\n",
    "    \"origin_port\",\n",
    "    \"3pl\",\n",
    "    \"customs_procedures\",\n",
    "    \"logistic_hub\",\n",
    "    \"customer\"\n",
    "]\n",
    "\n",
    "df_test.drop(columns=cols2remove, inplace=True)"
   ]
  },
  {
   "cell_type": "code",
   "execution_count": 19,
   "id": "e2c8408a-b0c7-4527-b5cd-5e89e3b37e06",
   "metadata": {},
   "outputs": [],
   "source": [
    "df_test.sort_values(by=\"my_index\", inplace=True)\n",
    "df_test.drop(columns=[\"my_index\"], inplace=True)"
   ]
  },
  {
   "cell_type": "code",
   "execution_count": 20,
   "id": "1e103927-69da-4c20-a475-150744de60ca",
   "metadata": {},
   "outputs": [],
   "source": [
    "df_test.to_csv(\"NEW_DATA/test.csv\", index=False)"
   ]
  }
 ],
 "metadata": {
  "kernelspec": {
   "display_name": "Python 3 (ipykernel)",
   "language": "python",
   "name": "python3"
  },
  "language_info": {
   "codemirror_mode": {
    "name": "ipython",
    "version": 3
   },
   "file_extension": ".py",
   "mimetype": "text/x-python",
   "name": "python",
   "nbconvert_exporter": "python",
   "pygments_lexer": "ipython3",
   "version": "3.10.6"
  }
 },
 "nbformat": 4,
 "nbformat_minor": 5
}
