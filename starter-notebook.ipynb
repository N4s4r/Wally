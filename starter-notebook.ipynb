{
 "cells": [
  {
   "cell_type": "markdown",
   "metadata": {
    "papermill": {
     "duration": 0.004443,
     "end_time": "2022-11-11T08:46:48.019499",
     "exception": false,
     "start_time": "2022-11-11T08:46:48.015056",
     "status": "completed"
    },
    "tags": []
   },
   "source": [
    "# Sarter Notebook"
   ]
  },
  {
   "cell_type": "code",
   "execution_count": 1,
   "metadata": {
    "papermill": {
     "duration": 1.688634,
     "end_time": "2022-11-11T08:46:49.712044",
     "exception": false,
     "start_time": "2022-11-11T08:46:48.02341",
     "status": "completed"
    },
    "tags": []
   },
   "outputs": [],
   "source": [
    "import pandas as pd\n",
    "import numpy as np\n",
    "import matplotlib.pyplot as plt\n",
    "import seaborn as sns"
   ]
  },
  {
   "cell_type": "markdown",
   "metadata": {
    "papermill": {
     "duration": 0.003519,
     "end_time": "2022-11-11T08:46:49.719635",
     "exception": false,
     "start_time": "2022-11-11T08:46:49.716116",
     "status": "completed"
    },
    "tags": []
   },
   "source": [
    "## Reading Data"
   ]
  },
  {
   "cell_type": "code",
   "execution_count": 14,
   "metadata": {
    "papermill": {
     "duration": 0.383908,
     "end_time": "2022-11-11T08:46:50.10727",
     "exception": false,
     "start_time": "2022-11-11T08:46:49.723362",
     "status": "completed"
    },
    "tags": []
   },
   "outputs": [],
   "source": [
    "# read train data\n",
    "df_orders = pd.read_csv(\"DATA/orders.csv\", sep=\";\")\n",
    "df_products = pd.read_csv(\"DATA/product_attributes.csv\", sep=\",\")\n",
    "df_dists = pd.read_csv(\"DATA/cities_data.csv\", sep=\";\")\n",
    "\n",
    "# read test data\n",
    "df_test = pd.read_csv(\"DATA/test.csv\", sep=\";\")"
   ]
  },
  {
   "cell_type": "code",
   "execution_count": 13,
   "metadata": {},
   "outputs": [
    {
     "name": "stdout",
     "output_type": "stream",
     "text": [
      "{-1}\n",
      "{-1}\n"
     ]
    }
   ],
   "source": [
    "S1 = set(list(df_orders[\"product_id\"]))\n",
    "S2 = set(list(df_test[\"product_id\"]))\n",
    "\n",
    "S3 = set(list(df_products[\"product_id\"]))\n",
    "\n",
    "print(S1 - S3)\n",
    "print(S2 - S3)"
   ]
  },
  {
   "cell_type": "code",
   "execution_count": 3,
   "metadata": {},
   "outputs": [
    {
     "name": "stdout",
     "output_type": "stream",
     "text": [
      "<class 'pandas.core.frame.DataFrame'>\n",
      "RangeIndex: 114276 entries, 0 to 114275\n",
      "Data columns (total 9 columns):\n",
      " #   Column              Non-Null Count   Dtype \n",
      "---  ------              --------------   ----- \n",
      " 0   order_id            114276 non-null  object\n",
      " 1   origin_port         114276 non-null  object\n",
      " 2   3pl                 114276 non-null  object\n",
      " 3   customs_procedures  114276 non-null  object\n",
      " 4   logistic_hub        113227 non-null  object\n",
      " 5   customer            114276 non-null  object\n",
      " 6   product_id          114276 non-null  int64 \n",
      " 7   units               114276 non-null  int64 \n",
      " 8   late_order          114276 non-null  bool  \n",
      "dtypes: bool(1), int64(2), object(6)\n",
      "memory usage: 7.1+ MB\n",
      "<class 'pandas.core.frame.DataFrame'>\n",
      "RangeIndex: 772 entries, 0 to 771\n",
      "Data columns (total 3 columns):\n",
      " #   Column             Non-Null Count  Dtype\n",
      "---  ------             --------------  -----\n",
      " 0   product_id         772 non-null    int64\n",
      " 1   weight             772 non-null    int64\n",
      " 2   material_handling  772 non-null    int64\n",
      "dtypes: int64(3)\n",
      "memory usage: 18.2 KB\n",
      "<class 'pandas.core.frame.DataFrame'>\n",
      "RangeIndex: 666 entries, 0 to 665\n",
      "Data columns (total 5 columns):\n",
      " #   Column           Non-Null Count  Dtype  \n",
      "---  ------           --------------  -----  \n",
      " 0   city_from_name   666 non-null    object \n",
      " 1   city_to_name     666 non-null    object \n",
      " 2   city_from_coord  666 non-null    object \n",
      " 3   city_to_coord    666 non-null    object \n",
      " 4   distance         666 non-null    float64\n",
      "dtypes: float64(1), object(4)\n",
      "memory usage: 26.1+ KB\n",
      "<class 'pandas.core.frame.DataFrame'>\n",
      "RangeIndex: 28563 entries, 0 to 28562\n",
      "Data columns (total 8 columns):\n",
      " #   Column              Non-Null Count  Dtype \n",
      "---  ------              --------------  ----- \n",
      " 0   order_id            28563 non-null  object\n",
      " 1   origin_port         28563 non-null  object\n",
      " 2   3pl                 28563 non-null  object\n",
      " 3   customs_procedures  28563 non-null  object\n",
      " 4   logistic_hub        28298 non-null  object\n",
      " 5   customer            28563 non-null  object\n",
      " 6   product_id          28563 non-null  int64 \n",
      " 7   units               28563 non-null  int64 \n",
      "dtypes: int64(2), object(6)\n",
      "memory usage: 1.7+ MB\n"
     ]
    }
   ],
   "source": [
    "df_orders.info()\n",
    "df_products.info()\n",
    "df_dists.info()\n",
    "df_test.info()"
   ]
  },
  {
   "cell_type": "code",
   "execution_count": null,
   "metadata": {},
   "outputs": [],
   "source": []
  },
  {
   "cell_type": "markdown",
   "metadata": {
    "papermill": {
     "duration": 0.004097,
     "end_time": "2022-11-11T08:46:50.420599",
     "exception": false,
     "start_time": "2022-11-11T08:46:50.416502",
     "status": "completed"
    },
    "tags": []
   },
   "source": [
    "## Dummy Model"
   ]
  },
  {
   "cell_type": "code",
   "execution_count": 4,
   "metadata": {
    "execution": {
     "iopub.execute_input": "2022-11-11T12:20:25.170513Z",
     "iopub.status.busy": "2022-11-11T12:20:25.169408Z",
     "iopub.status.idle": "2022-11-11T12:20:25.899564Z",
     "shell.execute_reply": "2022-11-11T12:20:25.898383Z",
     "shell.execute_reply.started": "2022-11-11T12:20:25.170454Z"
    },
    "papermill": {
     "duration": 0.014522,
     "end_time": "2022-11-11T08:46:51.565743",
     "exception": false,
     "start_time": "2022-11-11T08:46:51.551221",
     "status": "completed"
    },
    "tags": []
   },
   "outputs": [],
   "source": [
    "from sklearn.dummy import DummyClassifier\n",
    "\n",
    "X_train = df_orders.drop(['late_order'], axis=1)\n",
    "y_train = df_orders['late_order']\n",
    "\n",
    "X_test = df_test\n",
    "\n",
    "dummy_clf = DummyClassifier(strategy=\"uniform\")\n",
    "dummy_clf.fit(X_train, y_train)\n",
    "\n",
    "pred_proba = dummy_clf.predict_proba(X_test)"
   ]
  },
  {
   "cell_type": "markdown",
   "metadata": {
    "papermill": {
     "duration": 0.004901,
     "end_time": "2022-11-11T08:46:51.575208",
     "exception": false,
     "start_time": "2022-11-11T08:46:51.570307",
     "status": "completed"
    },
    "tags": []
   },
   "source": [
    "## Save Solution\n",
    "> **Note:** Submited probabilities must be for the **True** cases."
   ]
  },
  {
   "cell_type": "code",
   "execution_count": 4,
   "metadata": {
    "execution": {
     "iopub.execute_input": "2022-11-11T12:21:55.201806Z",
     "iopub.status.busy": "2022-11-11T12:21:55.201235Z",
     "iopub.status.idle": "2022-11-11T12:21:55.264849Z",
     "shell.execute_reply": "2022-11-11T12:21:55.263262Z",
     "shell.execute_reply.started": "2022-11-11T12:21:55.201757Z"
    },
    "papermill": {
     "duration": 0.047754,
     "end_time": "2022-11-11T08:46:51.627348",
     "exception": false,
     "start_time": "2022-11-11T08:46:51.579594",
     "status": "completed"
    },
    "tags": []
   },
   "outputs": [],
   "source": [
    "#submission = pd.DataFrame({\"order_id\": X_test.order_id, \"late_order\": pred_proba[:,1]})\n",
    "#submission.to_csv(\"submission_kaggle.csv\", index=False)"
   ]
  },
  {
   "cell_type": "markdown",
   "metadata": {},
   "source": [
    "# Data understanding"
   ]
  },
  {
   "cell_type": "code",
   "execution_count": 5,
   "metadata": {},
   "outputs": [
    {
     "name": "stdout",
     "output_type": "stream",
     "text": [
      "<class 'pandas.core.frame.DataFrame'>\n",
      "RangeIndex: 114276 entries, 0 to 114275\n",
      "Data columns (total 9 columns):\n",
      " #   Column              Non-Null Count   Dtype \n",
      "---  ------              --------------   ----- \n",
      " 0   order_id            114276 non-null  object\n",
      " 1   origin_port         114276 non-null  object\n",
      " 2   3pl                 114276 non-null  object\n",
      " 3   customs_procedures  114276 non-null  object\n",
      " 4   logistic_hub        113227 non-null  object\n",
      " 5   customer            114276 non-null  object\n",
      " 6   product_id          114276 non-null  int64 \n",
      " 7   units               114276 non-null  int64 \n",
      " 8   late_order          114276 non-null  bool  \n",
      "dtypes: bool(1), int64(2), object(6)\n",
      "memory usage: 7.1+ MB\n"
     ]
    }
   ],
   "source": [
    "df_orders.info()"
   ]
  },
  {
   "cell_type": "code",
   "execution_count": 6,
   "metadata": {},
   "outputs": [],
   "source": [
    "train_cities = pd.concat([pd.concat([df_orders.origin_port, df_orders.logistic_hub]), df_orders.customer]).unique()\n",
    "formal_cities = pd.concat([df_dists.city_from_name, df_dists.city_to_name]).unique()\n",
    "dif_city_names = [city for city in train_cities if city not in formal_cities]"
   ]
  },
  {
   "cell_type": "code",
   "execution_count": 253,
   "metadata": {},
   "outputs": [
    {
     "data": {
      "text/plain": [
       "['BCN', 'ATHENAS', nan]"
      ]
     },
     "execution_count": 253,
     "metadata": {},
     "output_type": "execute_result"
    }
   ],
   "source": [
    "dif_city_names"
   ]
  },
  {
   "cell_type": "code",
   "execution_count": 252,
   "metadata": {},
   "outputs": [],
   "source": [
    "conversion_dict = {'BCN': 'Barcelona', 'ATHENAS': 'Athens'}\n",
    "def wrong_cities(row):\n",
    "    if row['origin_port'] in conversion_dict.keys():\n",
    "        row['origin_port'] = conversion_dict[row['origin_port']]\n",
    "    if row['logistic_hub'] in conversion_dict.keys():\n",
    "        row['logistic_hub'] = conversion_dict[row['logistic_hub']]\n",
    "    if row['customer'] in conversion_dict.keys():\n",
    "        row['customer'] = conversion_dict[row['customer']]\n",
    "    return row\n",
    "df_orders = df_orders.apply(lambda x: wrong_cities(x), axis = 1)"
   ]
  },
  {
   "cell_type": "code",
   "execution_count": 10,
   "metadata": {},
   "outputs": [
    {
     "data": {
      "text/html": [
       "<div>\n",
       "<style scoped>\n",
       "    .dataframe tbody tr th:only-of-type {\n",
       "        vertical-align: middle;\n",
       "    }\n",
       "\n",
       "    .dataframe tbody tr th {\n",
       "        vertical-align: top;\n",
       "    }\n",
       "\n",
       "    .dataframe thead th {\n",
       "        text-align: right;\n",
       "    }\n",
       "</style>\n",
       "<table border=\"1\" class=\"dataframe\">\n",
       "  <thead>\n",
       "    <tr style=\"text-align: right;\">\n",
       "      <th></th>\n",
       "      <th>order_id</th>\n",
       "      <th>origin_port</th>\n",
       "      <th>3pl</th>\n",
       "      <th>customs_procedures</th>\n",
       "      <th>logistic_hub</th>\n",
       "      <th>customer</th>\n",
       "      <th>product_id</th>\n",
       "      <th>units</th>\n",
       "      <th>late_order</th>\n",
       "    </tr>\n",
       "  </thead>\n",
       "  <tbody>\n",
       "    <tr>\n",
       "      <th>0</th>\n",
       "      <td>366c7a3d298f</td>\n",
       "      <td>Rotterdam</td>\n",
       "      <td>v_002</td>\n",
       "      <td>DTP</td>\n",
       "      <td>Venlo</td>\n",
       "      <td>Marseille</td>\n",
       "      <td>1692723</td>\n",
       "      <td>583</td>\n",
       "      <td>True</td>\n",
       "    </tr>\n",
       "    <tr>\n",
       "      <th>1</th>\n",
       "      <td>45f906331e10</td>\n",
       "      <td>Rotterdam</td>\n",
       "      <td>v_004</td>\n",
       "      <td>CRF</td>\n",
       "      <td>Rome</td>\n",
       "      <td>Marseille</td>\n",
       "      <td>1644308</td>\n",
       "      <td>459</td>\n",
       "      <td>False</td>\n",
       "    </tr>\n",
       "    <tr>\n",
       "      <th>2</th>\n",
       "      <td>ac84a6e4af0f</td>\n",
       "      <td>Athens</td>\n",
       "      <td>v_002</td>\n",
       "      <td>CRF</td>\n",
       "      <td>Venlo</td>\n",
       "      <td>Paris</td>\n",
       "      <td>1684170</td>\n",
       "      <td>464</td>\n",
       "      <td>True</td>\n",
       "    </tr>\n",
       "    <tr>\n",
       "      <th>3</th>\n",
       "      <td>f5e98cb29790</td>\n",
       "      <td>Rotterdam</td>\n",
       "      <td>v_004</td>\n",
       "      <td>CRF</td>\n",
       "      <td>Lille</td>\n",
       "      <td>Milan</td>\n",
       "      <td>1620510</td>\n",
       "      <td>678</td>\n",
       "      <td>False</td>\n",
       "    </tr>\n",
       "    <tr>\n",
       "      <th>4</th>\n",
       "      <td>a9e7c9bee35b</td>\n",
       "      <td>Barcelona</td>\n",
       "      <td>v_002</td>\n",
       "      <td>CRF</td>\n",
       "      <td>Venlo</td>\n",
       "      <td>Berlin</td>\n",
       "      <td>1699372</td>\n",
       "      <td>353</td>\n",
       "      <td>False</td>\n",
       "    </tr>\n",
       "  </tbody>\n",
       "</table>\n",
       "</div>"
      ],
      "text/plain": [
       "       order_id origin_port    3pl customs_procedures logistic_hub   customer  \\\n",
       "0  366c7a3d298f   Rotterdam  v_002                DTP        Venlo  Marseille   \n",
       "1  45f906331e10   Rotterdam  v_004                CRF         Rome  Marseille   \n",
       "2  ac84a6e4af0f      Athens  v_002                CRF        Venlo      Paris   \n",
       "3  f5e98cb29790   Rotterdam  v_004                CRF        Lille      Milan   \n",
       "4  a9e7c9bee35b   Barcelona  v_002                CRF        Venlo     Berlin   \n",
       "\n",
       "   product_id  units  late_order  \n",
       "0     1692723    583        True  \n",
       "1     1644308    459       False  \n",
       "2     1684170    464        True  \n",
       "3     1620510    678       False  \n",
       "4     1699372    353       False  "
      ]
     },
     "execution_count": 10,
     "metadata": {},
     "output_type": "execute_result"
    }
   ],
   "source": [
    "df_orders.head(5)"
   ]
  },
  {
   "cell_type": "code",
   "execution_count": 14,
   "metadata": {},
   "outputs": [
    {
     "data": {
      "text/plain": [
       "count     114276\n",
       "unique         3\n",
       "top          CRF\n",
       "freq       51477\n",
       "Name: customs_procedures, dtype: object"
      ]
     },
     "execution_count": 14,
     "metadata": {},
     "output_type": "execute_result"
    }
   ],
   "source": [
    "df_orders.customs_procedures.describe()"
   ]
  },
  {
   "cell_type": "code",
   "execution_count": 11,
   "metadata": {},
   "outputs": [],
   "source": [
    "delayed_delivery = df_orders[df_orders.late_order==True]\n",
    "correct_delivery = df_orders[df_orders.late_order==False]"
   ]
  },
  {
   "cell_type": "markdown",
   "metadata": {},
   "source": [
    "## customs_procedures"
   ]
  },
  {
   "cell_type": "code",
   "execution_count": 13,
   "metadata": {},
   "outputs": [
    {
     "data": {
      "text/html": [
       "<div>\n",
       "<style scoped>\n",
       "    .dataframe tbody tr th:only-of-type {\n",
       "        vertical-align: middle;\n",
       "    }\n",
       "\n",
       "    .dataframe tbody tr th {\n",
       "        vertical-align: top;\n",
       "    }\n",
       "\n",
       "    .dataframe thead th {\n",
       "        text-align: right;\n",
       "    }\n",
       "</style>\n",
       "<table border=\"1\" class=\"dataframe\">\n",
       "  <thead>\n",
       "    <tr style=\"text-align: right;\">\n",
       "      <th></th>\n",
       "      <th>values</th>\n",
       "      <th>frequency</th>\n",
       "      <th>percentage</th>\n",
       "    </tr>\n",
       "  </thead>\n",
       "  <tbody>\n",
       "    <tr>\n",
       "      <th>0</th>\n",
       "      <td>CRF</td>\n",
       "      <td>51477</td>\n",
       "      <td>0.450462</td>\n",
       "    </tr>\n",
       "    <tr>\n",
       "      <th>1</th>\n",
       "      <td>DTD</td>\n",
       "      <td>43484</td>\n",
       "      <td>0.380517</td>\n",
       "    </tr>\n",
       "    <tr>\n",
       "      <th>2</th>\n",
       "      <td>DTP</td>\n",
       "      <td>19315</td>\n",
       "      <td>0.169021</td>\n",
       "    </tr>\n",
       "  </tbody>\n",
       "</table>\n",
       "</div>"
      ],
      "text/plain": [
       "  values  frequency  percentage\n",
       "0    CRF      51477    0.450462\n",
       "1    DTD      43484    0.380517\n",
       "2    DTP      19315    0.169021"
      ]
     },
     "metadata": {},
     "output_type": "display_data"
    }
   ],
   "source": [
    "desc = pd.DataFrame({'values':[], 'frequency':[]})\n",
    "occurrrences = df_orders['customs_procedures'].value_counts(ascending=False)\n",
    "desc['values'] = list(occurrrences.keys())\n",
    "desc['frequency'] = list(occurrrences)\n",
    "percentages = [occurrrences[method]/sum(list(occurrrences)) for method in occurrrences.keys()]\n",
    "desc['percentage'] = percentages\n",
    "display(desc)"
   ]
  },
  {
   "cell_type": "code",
   "execution_count": 19,
   "metadata": {},
   "outputs": [
    {
     "data": {
      "text/html": [
       "<div>\n",
       "<style scoped>\n",
       "    .dataframe tbody tr th:only-of-type {\n",
       "        vertical-align: middle;\n",
       "    }\n",
       "\n",
       "    .dataframe tbody tr th {\n",
       "        vertical-align: top;\n",
       "    }\n",
       "\n",
       "    .dataframe thead th {\n",
       "        text-align: right;\n",
       "    }\n",
       "</style>\n",
       "<table border=\"1\" class=\"dataframe\">\n",
       "  <thead>\n",
       "    <tr style=\"text-align: right;\">\n",
       "      <th></th>\n",
       "      <th>values</th>\n",
       "      <th>frequency</th>\n",
       "      <th>percentage</th>\n",
       "    </tr>\n",
       "  </thead>\n",
       "  <tbody>\n",
       "    <tr>\n",
       "      <th>0</th>\n",
       "      <td>DTD</td>\n",
       "      <td>10936</td>\n",
       "      <td>0.402710</td>\n",
       "    </tr>\n",
       "    <tr>\n",
       "      <th>1</th>\n",
       "      <td>CRF</td>\n",
       "      <td>10203</td>\n",
       "      <td>0.375718</td>\n",
       "    </tr>\n",
       "    <tr>\n",
       "      <th>2</th>\n",
       "      <td>DTP</td>\n",
       "      <td>6017</td>\n",
       "      <td>0.221572</td>\n",
       "    </tr>\n",
       "  </tbody>\n",
       "</table>\n",
       "</div>"
      ],
      "text/plain": [
       "  values  frequency  percentage\n",
       "0    DTD      10936    0.402710\n",
       "1    CRF      10203    0.375718\n",
       "2    DTP       6017    0.221572"
      ]
     },
     "metadata": {},
     "output_type": "display_data"
    }
   ],
   "source": [
    "desc = pd.DataFrame({'values':[], 'frequency':[]})\n",
    "occurrrences = delayed_delivery['customs_procedures'].value_counts(ascending=False)\n",
    "desc['values'] = list(occurrrences.keys())\n",
    "desc['frequency'] = list(occurrrences)\n",
    "percentages = [occurrrences[method]/sum(list(occurrrences)) for method in occurrrences.keys()]\n",
    "desc['percentage'] = percentages\n",
    "display(desc)"
   ]
  },
  {
   "cell_type": "code",
   "execution_count": 20,
   "metadata": {},
   "outputs": [
    {
     "data": {
      "text/html": [
       "<div>\n",
       "<style scoped>\n",
       "    .dataframe tbody tr th:only-of-type {\n",
       "        vertical-align: middle;\n",
       "    }\n",
       "\n",
       "    .dataframe tbody tr th {\n",
       "        vertical-align: top;\n",
       "    }\n",
       "\n",
       "    .dataframe thead th {\n",
       "        text-align: right;\n",
       "    }\n",
       "</style>\n",
       "<table border=\"1\" class=\"dataframe\">\n",
       "  <thead>\n",
       "    <tr style=\"text-align: right;\">\n",
       "      <th></th>\n",
       "      <th>values</th>\n",
       "      <th>frequency</th>\n",
       "      <th>percentage</th>\n",
       "    </tr>\n",
       "  </thead>\n",
       "  <tbody>\n",
       "    <tr>\n",
       "      <th>0</th>\n",
       "      <td>CRF</td>\n",
       "      <td>41274</td>\n",
       "      <td>0.47376</td>\n",
       "    </tr>\n",
       "    <tr>\n",
       "      <th>1</th>\n",
       "      <td>DTD</td>\n",
       "      <td>32548</td>\n",
       "      <td>0.37360</td>\n",
       "    </tr>\n",
       "    <tr>\n",
       "      <th>2</th>\n",
       "      <td>DTP</td>\n",
       "      <td>13298</td>\n",
       "      <td>0.15264</td>\n",
       "    </tr>\n",
       "  </tbody>\n",
       "</table>\n",
       "</div>"
      ],
      "text/plain": [
       "  values  frequency  percentage\n",
       "0    CRF      41274     0.47376\n",
       "1    DTD      32548     0.37360\n",
       "2    DTP      13298     0.15264"
      ]
     },
     "metadata": {},
     "output_type": "display_data"
    }
   ],
   "source": [
    "desc = pd.DataFrame({'values':[], 'frequency':[]})\n",
    "occurrrences = correct_delivery['customs_procedures'].value_counts(ascending=False)\n",
    "desc['values'] = list(occurrrences.keys())\n",
    "desc['frequency'] = list(occurrrences)\n",
    "percentages = [occurrrences[method]/sum(list(occurrrences)) for method in occurrrences.keys()]\n",
    "desc['percentage'] = percentages\n",
    "display(desc)"
   ]
  },
  {
   "cell_type": "markdown",
   "metadata": {},
   "source": [
    "## 3pl"
   ]
  },
  {
   "cell_type": "code",
   "execution_count": 16,
   "metadata": {},
   "outputs": [
    {
     "data": {
      "text/html": [
       "<div>\n",
       "<style scoped>\n",
       "    .dataframe tbody tr th:only-of-type {\n",
       "        vertical-align: middle;\n",
       "    }\n",
       "\n",
       "    .dataframe tbody tr th {\n",
       "        vertical-align: top;\n",
       "    }\n",
       "\n",
       "    .dataframe thead th {\n",
       "        text-align: right;\n",
       "    }\n",
       "</style>\n",
       "<table border=\"1\" class=\"dataframe\">\n",
       "  <thead>\n",
       "    <tr style=\"text-align: right;\">\n",
       "      <th></th>\n",
       "      <th>values</th>\n",
       "      <th>frequency</th>\n",
       "      <th>percentage</th>\n",
       "    </tr>\n",
       "  </thead>\n",
       "  <tbody>\n",
       "    <tr>\n",
       "      <th>0</th>\n",
       "      <td>v_002</td>\n",
       "      <td>54937</td>\n",
       "      <td>0.480740</td>\n",
       "    </tr>\n",
       "    <tr>\n",
       "      <th>1</th>\n",
       "      <td>v_004</td>\n",
       "      <td>44429</td>\n",
       "      <td>0.388787</td>\n",
       "    </tr>\n",
       "    <tr>\n",
       "      <th>2</th>\n",
       "      <td>v_001</td>\n",
       "      <td>7977</td>\n",
       "      <td>0.069805</td>\n",
       "    </tr>\n",
       "    <tr>\n",
       "      <th>3</th>\n",
       "      <td>v_003</td>\n",
       "      <td>6933</td>\n",
       "      <td>0.060669</td>\n",
       "    </tr>\n",
       "  </tbody>\n",
       "</table>\n",
       "</div>"
      ],
      "text/plain": [
       "  values  frequency  percentage\n",
       "0  v_002      54937    0.480740\n",
       "1  v_004      44429    0.388787\n",
       "2  v_001       7977    0.069805\n",
       "3  v_003       6933    0.060669"
      ]
     },
     "metadata": {},
     "output_type": "display_data"
    }
   ],
   "source": [
    "desc = pd.DataFrame({'values':[], 'frequency':[]})\n",
    "occurrrences = df_orders['3pl'].value_counts(ascending=False)\n",
    "desc['values'] = list(occurrrences.keys())\n",
    "desc['frequency'] = list(occurrrences)\n",
    "percentages = [occurrrences[method]/sum(list(occurrrences)) for method in occurrrences.keys()]\n",
    "desc['percentage'] = percentages\n",
    "display(desc)"
   ]
  },
  {
   "cell_type": "code",
   "execution_count": 17,
   "metadata": {},
   "outputs": [
    {
     "data": {
      "text/html": [
       "<div>\n",
       "<style scoped>\n",
       "    .dataframe tbody tr th:only-of-type {\n",
       "        vertical-align: middle;\n",
       "    }\n",
       "\n",
       "    .dataframe tbody tr th {\n",
       "        vertical-align: top;\n",
       "    }\n",
       "\n",
       "    .dataframe thead th {\n",
       "        text-align: right;\n",
       "    }\n",
       "</style>\n",
       "<table border=\"1\" class=\"dataframe\">\n",
       "  <thead>\n",
       "    <tr style=\"text-align: right;\">\n",
       "      <th></th>\n",
       "      <th>values</th>\n",
       "      <th>frequency</th>\n",
       "      <th>percentage</th>\n",
       "    </tr>\n",
       "  </thead>\n",
       "  <tbody>\n",
       "    <tr>\n",
       "      <th>0</th>\n",
       "      <td>v_004</td>\n",
       "      <td>11416</td>\n",
       "      <td>0.420386</td>\n",
       "    </tr>\n",
       "    <tr>\n",
       "      <th>1</th>\n",
       "      <td>v_002</td>\n",
       "      <td>10957</td>\n",
       "      <td>0.403484</td>\n",
       "    </tr>\n",
       "    <tr>\n",
       "      <th>2</th>\n",
       "      <td>v_001</td>\n",
       "      <td>3048</td>\n",
       "      <td>0.112240</td>\n",
       "    </tr>\n",
       "    <tr>\n",
       "      <th>3</th>\n",
       "      <td>v_003</td>\n",
       "      <td>1735</td>\n",
       "      <td>0.063890</td>\n",
       "    </tr>\n",
       "  </tbody>\n",
       "</table>\n",
       "</div>"
      ],
      "text/plain": [
       "  values  frequency  percentage\n",
       "0  v_004      11416    0.420386\n",
       "1  v_002      10957    0.403484\n",
       "2  v_001       3048    0.112240\n",
       "3  v_003       1735    0.063890"
      ]
     },
     "metadata": {},
     "output_type": "display_data"
    }
   ],
   "source": [
    "desc = pd.DataFrame({'values':[], 'frequency':[]})\n",
    "occurrrences = delayed_delivery['3pl'].value_counts(ascending=False)\n",
    "desc['values'] = list(occurrrences.keys())\n",
    "desc['frequency'] = list(occurrrences)\n",
    "percentages = [occurrrences[method]/sum(list(occurrrences)) for method in occurrrences.keys()]\n",
    "desc['percentage'] = percentages\n",
    "display(desc)"
   ]
  },
  {
   "cell_type": "code",
   "execution_count": 18,
   "metadata": {},
   "outputs": [
    {
     "data": {
      "text/html": [
       "<div>\n",
       "<style scoped>\n",
       "    .dataframe tbody tr th:only-of-type {\n",
       "        vertical-align: middle;\n",
       "    }\n",
       "\n",
       "    .dataframe tbody tr th {\n",
       "        vertical-align: top;\n",
       "    }\n",
       "\n",
       "    .dataframe thead th {\n",
       "        text-align: right;\n",
       "    }\n",
       "</style>\n",
       "<table border=\"1\" class=\"dataframe\">\n",
       "  <thead>\n",
       "    <tr style=\"text-align: right;\">\n",
       "      <th></th>\n",
       "      <th>values</th>\n",
       "      <th>frequency</th>\n",
       "      <th>percentage</th>\n",
       "    </tr>\n",
       "  </thead>\n",
       "  <tbody>\n",
       "    <tr>\n",
       "      <th>0</th>\n",
       "      <td>v_002</td>\n",
       "      <td>43980</td>\n",
       "      <td>0.504821</td>\n",
       "    </tr>\n",
       "    <tr>\n",
       "      <th>1</th>\n",
       "      <td>v_004</td>\n",
       "      <td>33013</td>\n",
       "      <td>0.378937</td>\n",
       "    </tr>\n",
       "    <tr>\n",
       "      <th>2</th>\n",
       "      <td>v_003</td>\n",
       "      <td>5198</td>\n",
       "      <td>0.059665</td>\n",
       "    </tr>\n",
       "    <tr>\n",
       "      <th>3</th>\n",
       "      <td>v_001</td>\n",
       "      <td>4929</td>\n",
       "      <td>0.056577</td>\n",
       "    </tr>\n",
       "  </tbody>\n",
       "</table>\n",
       "</div>"
      ],
      "text/plain": [
       "  values  frequency  percentage\n",
       "0  v_002      43980    0.504821\n",
       "1  v_004      33013    0.378937\n",
       "2  v_003       5198    0.059665\n",
       "3  v_001       4929    0.056577"
      ]
     },
     "metadata": {},
     "output_type": "display_data"
    }
   ],
   "source": [
    "desc = pd.DataFrame({'values':[], 'frequency':[]})\n",
    "occurrrences = correct_delivery['3pl'].value_counts(ascending=False)\n",
    "desc['values'] = list(occurrrences.keys())\n",
    "desc['frequency'] = list(occurrrences)\n",
    "percentages = [occurrrences[method]/sum(list(occurrrences)) for method in occurrrences.keys()]\n",
    "desc['percentage'] = percentages\n",
    "display(desc)"
   ]
  },
  {
   "cell_type": "code",
   "execution_count": 66,
   "metadata": {},
   "outputs": [
    {
     "data": {
      "text/html": [
       "<div>\n",
       "<style scoped>\n",
       "    .dataframe tbody tr th:only-of-type {\n",
       "        vertical-align: middle;\n",
       "    }\n",
       "\n",
       "    .dataframe tbody tr th {\n",
       "        vertical-align: top;\n",
       "    }\n",
       "\n",
       "    .dataframe thead th {\n",
       "        text-align: right;\n",
       "    }\n",
       "</style>\n",
       "<table border=\"1\" class=\"dataframe\">\n",
       "  <thead>\n",
       "    <tr style=\"text-align: right;\">\n",
       "      <th></th>\n",
       "      <th>values</th>\n",
       "      <th>frequency</th>\n",
       "      <th>percentage</th>\n",
       "    </tr>\n",
       "  </thead>\n",
       "  <tbody>\n",
       "    <tr>\n",
       "      <th>0</th>\n",
       "      <td>Venlo</td>\n",
       "      <td>23700</td>\n",
       "      <td>0.209314</td>\n",
       "    </tr>\n",
       "    <tr>\n",
       "      <th>1</th>\n",
       "      <td>Hamburg</td>\n",
       "      <td>21480</td>\n",
       "      <td>0.189707</td>\n",
       "    </tr>\n",
       "    <tr>\n",
       "      <th>2</th>\n",
       "      <td>Warsaw</td>\n",
       "      <td>15803</td>\n",
       "      <td>0.139569</td>\n",
       "    </tr>\n",
       "    <tr>\n",
       "      <th>3</th>\n",
       "      <td>Dusseldorf</td>\n",
       "      <td>12518</td>\n",
       "      <td>0.110557</td>\n",
       "    </tr>\n",
       "    <tr>\n",
       "      <th>4</th>\n",
       "      <td>Rome</td>\n",
       "      <td>12460</td>\n",
       "      <td>0.110044</td>\n",
       "    </tr>\n",
       "    <tr>\n",
       "      <th>5</th>\n",
       "      <td>Lille</td>\n",
       "      <td>10248</td>\n",
       "      <td>0.090508</td>\n",
       "    </tr>\n",
       "    <tr>\n",
       "      <th>6</th>\n",
       "      <td>Zaragoza</td>\n",
       "      <td>7886</td>\n",
       "      <td>0.069648</td>\n",
       "    </tr>\n",
       "    <tr>\n",
       "      <th>7</th>\n",
       "      <td>Liege</td>\n",
       "      <td>4641</td>\n",
       "      <td>0.040988</td>\n",
       "    </tr>\n",
       "    <tr>\n",
       "      <th>8</th>\n",
       "      <td>Bratislava</td>\n",
       "      <td>4491</td>\n",
       "      <td>0.039664</td>\n",
       "    </tr>\n",
       "  </tbody>\n",
       "</table>\n",
       "</div>"
      ],
      "text/plain": [
       "       values  frequency  percentage\n",
       "0       Venlo      23700    0.209314\n",
       "1     Hamburg      21480    0.189707\n",
       "2      Warsaw      15803    0.139569\n",
       "3  Dusseldorf      12518    0.110557\n",
       "4        Rome      12460    0.110044\n",
       "5       Lille      10248    0.090508\n",
       "6    Zaragoza       7886    0.069648\n",
       "7       Liege       4641    0.040988\n",
       "8  Bratislava       4491    0.039664"
      ]
     },
     "metadata": {},
     "output_type": "display_data"
    }
   ],
   "source": [
    "desc = pd.DataFrame({'values':[], 'frequency':[]})\n",
    "occurrrences = df_orders['logistic_hub'].value_counts(ascending=False)\n",
    "desc['values'] = list(occurrrences.keys())\n",
    "desc['frequency'] = list(occurrrences)\n",
    "percentages = [occurrrences[method]/sum(list(occurrrences)) for method in occurrrences.keys()]\n",
    "desc['percentage'] = percentages\n",
    "display(desc)"
   ]
  },
  {
   "cell_type": "code",
   "execution_count": 104,
   "metadata": {},
   "outputs": [
    {
     "data": {
      "text/plain": [
       "count    114276.000000\n",
       "mean        484.915310\n",
       "std          68.387351\n",
       "min           1.000000\n",
       "25%         447.000000\n",
       "50%         486.000000\n",
       "75%         522.000000\n",
       "max         951.000000\n",
       "Name: units, dtype: float64"
      ]
     },
     "execution_count": 104,
     "metadata": {},
     "output_type": "execute_result"
    }
   ],
   "source": [
    "df_orders.units.describe()"
   ]
  },
  {
   "cell_type": "code",
   "execution_count": 69,
   "metadata": {},
   "outputs": [
    {
     "data": {
      "text/plain": [
       "count    87120.000000\n",
       "mean       478.505188\n",
       "std         64.170661\n",
       "min         45.000000\n",
       "25%        443.000000\n",
       "50%        482.000000\n",
       "75%        517.000000\n",
       "max        876.000000\n",
       "Name: units, dtype: float64"
      ]
     },
     "execution_count": 69,
     "metadata": {},
     "output_type": "execute_result"
    }
   ],
   "source": [
    "positives.units.describe()"
   ]
  },
  {
   "cell_type": "code",
   "execution_count": 138,
   "metadata": {},
   "outputs": [
    {
     "data": {
      "text/plain": [
       "count    27156.000000\n",
       "mean       505.479820\n",
       "std         76.912357\n",
       "min          1.000000\n",
       "25%        462.000000\n",
       "50%        496.000000\n",
       "75%        545.000000\n",
       "max        951.000000\n",
       "Name: units, dtype: float64"
      ]
     },
     "execution_count": 138,
     "metadata": {},
     "output_type": "execute_result"
    }
   ],
   "source": [
    "negatives.units.describe()"
   ]
  },
  {
   "cell_type": "code",
   "execution_count": 117,
   "metadata": {},
   "outputs": [
    {
     "data": {
      "text/plain": [
       "50"
      ]
     },
     "execution_count": 117,
     "metadata": {},
     "output_type": "execute_result"
    }
   ],
   "source": [
    "951 // interval_length"
   ]
  },
  {
   "cell_type": "code",
   "execution_count": 139,
   "metadata": {},
   "outputs": [],
   "source": [
    "num_bins = 20\n",
    "interval_length  = int((df_orders.units.max() - df_orders.units.min()) / num_bins)\n",
    "discretized_units_pos = [0]*(num_bins+1)\n",
    "discretized_units_neg = [0]*(num_bins+1)\n",
    "\n",
    "for unit in positives.units:\n",
    "    discretized_units_pos[unit // interval_length] += 1\n",
    "    \n",
    "for unit in negatives.units:\n",
    "    discretized_units_neg[unit // interval_length] += 1 "
   ]
  },
  {
   "cell_type": "code",
   "execution_count": 148,
   "metadata": {},
   "outputs": [],
   "source": [
    "indexes = [i for i in range(21)]"
   ]
  },
  {
   "cell_type": "code",
   "execution_count": 149,
   "metadata": {},
   "outputs": [
    {
     "name": "stderr",
     "output_type": "stream",
     "text": [
      "C:\\Users\\erodriguez\\AppData\\Local\\Temp\\ipykernel_9816\\2706373262.py:1: RuntimeWarning: invalid value encountered in true_divide\n",
      "  proportion = np.array(discretized_units_pos) / np.array(discretized_units_neg)\n"
     ]
    },
    {
     "data": {
      "text/plain": [
       "array([1.        , 0.        , 3.5       , 5.5       , 5.78947368,\n",
       "       5.88235294, 5.51196172, 5.51643192, 4.87042842, 4.13191153,\n",
       "       3.17103849, 3.30225011, 1.96149574, 0.87707641, 0.31476323,\n",
       "       0.09022556, 0.04597701, 0.08333333, 0.2       ,        nan,\n",
       "       0.        ])"
      ]
     },
     "execution_count": 149,
     "metadata": {},
     "output_type": "execute_result"
    },
    {
     "data": {
      "image/png": "[encoded data removed]",
      "text/plain": [
       "<Figure size 640x480 with 1 Axes>"
      ]
     },
     "metadata": {},
     "output_type": "display_data"
    }
   ],
   "source": [
    "proportion = np.array(discretized_units_pos) / np.array(discretized_units_neg)\n",
    "sns.histplot(x = indexes, y = proportion)\n",
    "proportion"
   ]
  },
  {
   "cell_type": "code",
   "execution_count": 71,
   "metadata": {},
   "outputs": [
    {
     "data": {
      "text/plain": [
       "<AxesSubplot:xlabel='units', ylabel='Count'>"
      ]
     },
     "execution_count": 71,
     "metadata": {},
     "output_type": "execute_result"
    },
    {
     "data": {
      "image/png": "[encoded data removed]",
      "text/plain": [
       "<Figure size 640x480 with 1 Axes>"
      ]
     },
     "metadata": {},
     "output_type": "display_data"
    }
   ],
   "source": [
    "sns.histplot(data=df_orders, x=\"units\", hue=\"late_order\")"
   ]
  },
  {
   "cell_type": "code",
   "execution_count": 56,
   "metadata": {},
   "outputs": [
    {
     "data": {
      "text/plain": [
       "<AxesSubplot:xlabel='units', ylabel='Count'>"
      ]
     },
     "execution_count": 56,
     "metadata": {},
     "output_type": "execute_result"
    },
    {
     "data": {
      "image/png": "[encoded data removed]",
      "text/plain": [
       "<Figure size 640x480 with 1 Axes>"
      ]
     },
     "metadata": {},
     "output_type": "display_data"
    }
   ],
   "source": [
    "sns.histplot(df_orders.units)"
   ]
  },
  {
   "cell_type": "code",
   "execution_count": 45,
   "metadata": {},
   "outputs": [
    {
     "data": {
      "text/html": [
       "<div>\n",
       "<style scoped>\n",
       "    .dataframe tbody tr th:only-of-type {\n",
       "        vertical-align: middle;\n",
       "    }\n",
       "\n",
       "    .dataframe tbody tr th {\n",
       "        vertical-align: top;\n",
       "    }\n",
       "\n",
       "    .dataframe thead th {\n",
       "        text-align: right;\n",
       "    }\n",
       "</style>\n",
       "<table border=\"1\" class=\"dataframe\">\n",
       "  <thead>\n",
       "    <tr style=\"text-align: right;\">\n",
       "      <th></th>\n",
       "      <th>values</th>\n",
       "      <th>frequency</th>\n",
       "      <th>percentage</th>\n",
       "    </tr>\n",
       "  </thead>\n",
       "  <tbody>\n",
       "    <tr>\n",
       "      <th>0</th>\n",
       "      <td>493</td>\n",
       "      <td>1002</td>\n",
       "      <td>0.008768</td>\n",
       "    </tr>\n",
       "    <tr>\n",
       "      <th>1</th>\n",
       "      <td>488</td>\n",
       "      <td>947</td>\n",
       "      <td>0.008287</td>\n",
       "    </tr>\n",
       "    <tr>\n",
       "      <th>2</th>\n",
       "      <td>485</td>\n",
       "      <td>947</td>\n",
       "      <td>0.008287</td>\n",
       "    </tr>\n",
       "    <tr>\n",
       "      <th>3</th>\n",
       "      <td>490</td>\n",
       "      <td>942</td>\n",
       "      <td>0.008243</td>\n",
       "    </tr>\n",
       "    <tr>\n",
       "      <th>4</th>\n",
       "      <td>494</td>\n",
       "      <td>940</td>\n",
       "      <td>0.008226</td>\n",
       "    </tr>\n",
       "    <tr>\n",
       "      <th>...</th>\n",
       "      <td>...</td>\n",
       "      <td>...</td>\n",
       "      <td>...</td>\n",
       "    </tr>\n",
       "    <tr>\n",
       "      <th>660</th>\n",
       "      <td>164</td>\n",
       "      <td>1</td>\n",
       "      <td>0.000009</td>\n",
       "    </tr>\n",
       "    <tr>\n",
       "      <th>661</th>\n",
       "      <td>155</td>\n",
       "      <td>1</td>\n",
       "      <td>0.000009</td>\n",
       "    </tr>\n",
       "    <tr>\n",
       "      <th>662</th>\n",
       "      <td>45</td>\n",
       "      <td>1</td>\n",
       "      <td>0.000009</td>\n",
       "    </tr>\n",
       "    <tr>\n",
       "      <th>663</th>\n",
       "      <td>180</td>\n",
       "      <td>1</td>\n",
       "      <td>0.000009</td>\n",
       "    </tr>\n",
       "    <tr>\n",
       "      <th>664</th>\n",
       "      <td>794</td>\n",
       "      <td>1</td>\n",
       "      <td>0.000009</td>\n",
       "    </tr>\n",
       "  </tbody>\n",
       "</table>\n",
       "<p>665 rows × 3 columns</p>\n",
       "</div>"
      ],
      "text/plain": [
       "     values  frequency  percentage\n",
       "0       493       1002    0.008768\n",
       "1       488        947    0.008287\n",
       "2       485        947    0.008287\n",
       "3       490        942    0.008243\n",
       "4       494        940    0.008226\n",
       "..      ...        ...         ...\n",
       "660     164          1    0.000009\n",
       "661     155          1    0.000009\n",
       "662      45          1    0.000009\n",
       "663     180          1    0.000009\n",
       "664     794          1    0.000009\n",
       "\n",
       "[665 rows x 3 columns]"
      ]
     },
     "metadata": {},
     "output_type": "display_data"
    }
   ],
   "source": [
    "perc_pos = len(positives[positives.units] >)"
   ]
  },
  {
   "cell_type": "markdown",
   "metadata": {},
   "source": [
    "## Custom Precedures"
   ]
  },
  {
   "cell_type": "code",
   "execution_count": 10,
   "metadata": {},
   "outputs": [
    {
     "data": {
      "text/html": [
       "<div>\n",
       "<style scoped>\n",
       "    .dataframe tbody tr th:only-of-type {\n",
       "        vertical-align: middle;\n",
       "    }\n",
       "\n",
       "    .dataframe tbody tr th {\n",
       "        vertical-align: top;\n",
       "    }\n",
       "\n",
       "    .dataframe thead th {\n",
       "        text-align: right;\n",
       "    }\n",
       "</style>\n",
       "<table border=\"1\" class=\"dataframe\">\n",
       "  <thead>\n",
       "    <tr style=\"text-align: right;\">\n",
       "      <th></th>\n",
       "      <th>city_from_name</th>\n",
       "      <th>city_to_name</th>\n",
       "      <th>city_from_coord</th>\n",
       "      <th>city_to_coord</th>\n",
       "      <th>distance</th>\n",
       "    </tr>\n",
       "  </thead>\n",
       "  <tbody>\n",
       "    <tr>\n",
       "      <th>0</th>\n",
       "      <td>Dusseldorf</td>\n",
       "      <td>Zaragoza</td>\n",
       "      <td>(51.2254018, 6.7763137)</td>\n",
       "      <td>(41.6521342, -0.8809428)</td>\n",
       "      <td>1214.4772</td>\n",
       "    </tr>\n",
       "    <tr>\n",
       "      <th>1</th>\n",
       "      <td>Dusseldorf</td>\n",
       "      <td>Venlo</td>\n",
       "      <td>(51.2254018, 6.7763137)</td>\n",
       "      <td>(51.39244885, 6.1511724144122955)</td>\n",
       "      <td>47.3876</td>\n",
       "    </tr>\n",
       "    <tr>\n",
       "      <th>2</th>\n",
       "      <td>Dusseldorf</td>\n",
       "      <td>Bratislava</td>\n",
       "      <td>(51.2254018, 6.7763137)</td>\n",
       "      <td>(48.1516988, 17.1093063)</td>\n",
       "      <td>819.2894</td>\n",
       "    </tr>\n",
       "    <tr>\n",
       "      <th>3</th>\n",
       "      <td>Dusseldorf</td>\n",
       "      <td>Hamburg</td>\n",
       "      <td>(51.2254018, 6.7763137)</td>\n",
       "      <td>(53.550341, 10.000654)</td>\n",
       "      <td>339.2215</td>\n",
       "    </tr>\n",
       "    <tr>\n",
       "      <th>4</th>\n",
       "      <td>Dusseldorf</td>\n",
       "      <td>Rome</td>\n",
       "      <td>(51.2254018, 6.7763137)</td>\n",
       "      <td>(41.8933203, 12.4829321)</td>\n",
       "      <td>1125.0290</td>\n",
       "    </tr>\n",
       "    <tr>\n",
       "      <th>5</th>\n",
       "      <td>Dusseldorf</td>\n",
       "      <td>Lille</td>\n",
       "      <td>(51.2254018, 6.7763137)</td>\n",
       "      <td>(50.6365654, 3.0635282)</td>\n",
       "      <td>269.0769</td>\n",
       "    </tr>\n",
       "    <tr>\n",
       "      <th>6</th>\n",
       "      <td>Dusseldorf</td>\n",
       "      <td>Liege</td>\n",
       "      <td>(51.2254018, 6.7763137)</td>\n",
       "      <td>(50.6450944, 5.5736112)</td>\n",
       "      <td>106.3716</td>\n",
       "    </tr>\n",
       "    <tr>\n",
       "      <th>7</th>\n",
       "      <td>Dusseldorf</td>\n",
       "      <td>Warsaw</td>\n",
       "      <td>(51.2254018, 6.7763137)</td>\n",
       "      <td>(52.2337172, 21.071432235636493)</td>\n",
       "      <td>992.3709</td>\n",
       "    </tr>\n",
       "    <tr>\n",
       "      <th>8</th>\n",
       "      <td>Dusseldorf</td>\n",
       "      <td>Paris</td>\n",
       "      <td>(51.2254018, 6.7763137)</td>\n",
       "      <td>(48.8588897, 2.3200410217200766)</td>\n",
       "      <td>413.6191</td>\n",
       "    </tr>\n",
       "    <tr>\n",
       "      <th>9</th>\n",
       "      <td>Dusseldorf</td>\n",
       "      <td>Lyon</td>\n",
       "      <td>(51.2254018, 6.7763137)</td>\n",
       "      <td>(45.7578137, 4.8320114)</td>\n",
       "      <td>624.6864</td>\n",
       "    </tr>\n",
       "    <tr>\n",
       "      <th>10</th>\n",
       "      <td>Dusseldorf</td>\n",
       "      <td>Marseille</td>\n",
       "      <td>(51.2254018, 6.7763137)</td>\n",
       "      <td>(43.2961743, 5.3699525)</td>\n",
       "      <td>887.8947</td>\n",
       "    </tr>\n",
       "    <tr>\n",
       "      <th>11</th>\n",
       "      <td>Dusseldorf</td>\n",
       "      <td>Bordeaux</td>\n",
       "      <td>(51.2254018, 6.7763137)</td>\n",
       "      <td>(44.841225, -0.5800364)</td>\n",
       "      <td>896.2065</td>\n",
       "    </tr>\n",
       "    <tr>\n",
       "      <th>12</th>\n",
       "      <td>Dusseldorf</td>\n",
       "      <td>Milan</td>\n",
       "      <td>(51.2254018, 6.7763137)</td>\n",
       "      <td>(45.4641943, 9.1896346)</td>\n",
       "      <td>665.0376</td>\n",
       "    </tr>\n",
       "    <tr>\n",
       "      <th>13</th>\n",
       "      <td>Dusseldorf</td>\n",
       "      <td>Berlin</td>\n",
       "      <td>(51.2254018, 6.7763137)</td>\n",
       "      <td>(52.5170365, 13.3888599)</td>\n",
       "      <td>477.3717</td>\n",
       "    </tr>\n",
       "    <tr>\n",
       "      <th>14</th>\n",
       "      <td>Dusseldorf</td>\n",
       "      <td>Madrid</td>\n",
       "      <td>(51.2254018, 6.7763137)</td>\n",
       "      <td>(40.4167047, -3.7035825)</td>\n",
       "      <td>1448.2241</td>\n",
       "    </tr>\n",
       "    <tr>\n",
       "      <th>15</th>\n",
       "      <td>Dusseldorf</td>\n",
       "      <td>Vienna</td>\n",
       "      <td>(51.2254018, 6.7763137)</td>\n",
       "      <td>(48.2083537, 16.3725042)</td>\n",
       "      <td>768.3073</td>\n",
       "    </tr>\n",
       "    <tr>\n",
       "      <th>16</th>\n",
       "      <td>Dusseldorf</td>\n",
       "      <td>Munich</td>\n",
       "      <td>(51.2254018, 6.7763137)</td>\n",
       "      <td>(48.1371079, 11.5753822)</td>\n",
       "      <td>487.5926</td>\n",
       "    </tr>\n",
       "    <tr>\n",
       "      <th>17</th>\n",
       "      <td>Dusseldorf</td>\n",
       "      <td>Amsterdam</td>\n",
       "      <td>(51.2254018, 6.7763137)</td>\n",
       "      <td>(52.3727598, 4.8936041)</td>\n",
       "      <td>182.1019</td>\n",
       "    </tr>\n",
       "    <tr>\n",
       "      <th>18</th>\n",
       "      <td>Dusseldorf</td>\n",
       "      <td>Stockholm</td>\n",
       "      <td>(51.2254018, 6.7763137)</td>\n",
       "      <td>(59.3251172, 18.0710935)</td>\n",
       "      <td>1149.3691</td>\n",
       "    </tr>\n",
       "    <tr>\n",
       "      <th>19</th>\n",
       "      <td>Dusseldorf</td>\n",
       "      <td>Copenhagen</td>\n",
       "      <td>(51.2254018, 6.7763137)</td>\n",
       "      <td>(55.6867243, 12.5700724)</td>\n",
       "      <td>627.7653</td>\n",
       "    </tr>\n",
       "    <tr>\n",
       "      <th>20</th>\n",
       "      <td>Dusseldorf</td>\n",
       "      <td>Barcelona</td>\n",
       "      <td>(51.2254018, 6.7763137)</td>\n",
       "      <td>(41.3828939, 2.1774322)</td>\n",
       "      <td>1149.4065</td>\n",
       "    </tr>\n",
       "    <tr>\n",
       "      <th>21</th>\n",
       "      <td>Dusseldorf</td>\n",
       "      <td>Cologne</td>\n",
       "      <td>(51.2254018, 6.7763137)</td>\n",
       "      <td>(50.938361, 6.959974)</td>\n",
       "      <td>34.4291</td>\n",
       "    </tr>\n",
       "    <tr>\n",
       "      <th>22</th>\n",
       "      <td>Dusseldorf</td>\n",
       "      <td>Athens</td>\n",
       "      <td>(51.2254018, 6.7763137)</td>\n",
       "      <td>(37.9839412, 23.7283052)</td>\n",
       "      <td>1984.4370</td>\n",
       "    </tr>\n",
       "    <tr>\n",
       "      <th>23</th>\n",
       "      <td>Dusseldorf</td>\n",
       "      <td>Bucharest</td>\n",
       "      <td>(51.2254018, 6.7763137)</td>\n",
       "      <td>(44.4361414, 26.1027202)</td>\n",
       "      <td>1625.1608</td>\n",
       "    </tr>\n",
       "    <tr>\n",
       "      <th>24</th>\n",
       "      <td>Dusseldorf</td>\n",
       "      <td>Budapest</td>\n",
       "      <td>(51.2254018, 6.7763137)</td>\n",
       "      <td>(47.4979937, 19.0403594)</td>\n",
       "      <td>980.9822</td>\n",
       "    </tr>\n",
       "    <tr>\n",
       "      <th>25</th>\n",
       "      <td>Dusseldorf</td>\n",
       "      <td>Naples</td>\n",
       "      <td>(51.2254018, 6.7763137)</td>\n",
       "      <td>(40.8358846, 14.2487679)</td>\n",
       "      <td>1290.0187</td>\n",
       "    </tr>\n",
       "    <tr>\n",
       "      <th>26</th>\n",
       "      <td>Dusseldorf</td>\n",
       "      <td>Lisbon</td>\n",
       "      <td>(51.2254018, 6.7763137)</td>\n",
       "      <td>(38.7077507, -9.1365919)</td>\n",
       "      <td>1865.7471</td>\n",
       "    </tr>\n",
       "    <tr>\n",
       "      <th>27</th>\n",
       "      <td>Dusseldorf</td>\n",
       "      <td>Turin</td>\n",
       "      <td>(51.2254018, 6.7763137)</td>\n",
       "      <td>(45.0677551, 7.6824892)</td>\n",
       "      <td>687.9850</td>\n",
       "    </tr>\n",
       "    <tr>\n",
       "      <th>28</th>\n",
       "      <td>Dusseldorf</td>\n",
       "      <td>Hanover</td>\n",
       "      <td>(51.2254018, 6.7763137)</td>\n",
       "      <td>(52.3744779, 9.7385532)</td>\n",
       "      <td>241.0170</td>\n",
       "    </tr>\n",
       "    <tr>\n",
       "      <th>29</th>\n",
       "      <td>Dusseldorf</td>\n",
       "      <td>Malmö</td>\n",
       "      <td>(51.2254018, 6.7763137)</td>\n",
       "      <td>(55.6052931, 13.0001566)</td>\n",
       "      <td>638.9220</td>\n",
       "    </tr>\n",
       "    <tr>\n",
       "      <th>30</th>\n",
       "      <td>Dusseldorf</td>\n",
       "      <td>Helsinki</td>\n",
       "      <td>(51.2254018, 6.7763137)</td>\n",
       "      <td>(60.1674881, 24.9427473)</td>\n",
       "      <td>1506.2793</td>\n",
       "    </tr>\n",
       "    <tr>\n",
       "      <th>31</th>\n",
       "      <td>Dusseldorf</td>\n",
       "      <td>Prague</td>\n",
       "      <td>(51.2254018, 6.7763137)</td>\n",
       "      <td>(50.0874654, 14.4212535)</td>\n",
       "      <td>554.9521</td>\n",
       "    </tr>\n",
       "    <tr>\n",
       "      <th>32</th>\n",
       "      <td>Dusseldorf</td>\n",
       "      <td>Valencia</td>\n",
       "      <td>(51.2254018, 6.7763137)</td>\n",
       "      <td>(39.4697065, -0.3763353)</td>\n",
       "      <td>1420.0225</td>\n",
       "    </tr>\n",
       "    <tr>\n",
       "      <th>33</th>\n",
       "      <td>Dusseldorf</td>\n",
       "      <td>Bremen</td>\n",
       "      <td>(51.2254018, 6.7763137)</td>\n",
       "      <td>(53.0758196, 8.8071646)</td>\n",
       "      <td>248.4044</td>\n",
       "    </tr>\n",
       "    <tr>\n",
       "      <th>34</th>\n",
       "      <td>Dusseldorf</td>\n",
       "      <td>Porto</td>\n",
       "      <td>(51.2254018, 6.7763137)</td>\n",
       "      <td>(41.1494512, -8.6107884)</td>\n",
       "      <td>1626.5104</td>\n",
       "    </tr>\n",
       "    <tr>\n",
       "      <th>35</th>\n",
       "      <td>Zaragoza</td>\n",
       "      <td>Venlo</td>\n",
       "      <td>(41.6521342, -0.8809428)</td>\n",
       "      <td>(51.39244885, 6.1511724144122955)</td>\n",
       "      <td>1208.4067</td>\n",
       "    </tr>\n",
       "    <tr>\n",
       "      <th>36</th>\n",
       "      <td>Zaragoza</td>\n",
       "      <td>Bratislava</td>\n",
       "      <td>(41.6521342, -0.8809428)</td>\n",
       "      <td>(48.1516988, 17.1093063)</td>\n",
       "      <td>1588.6230</td>\n",
       "    </tr>\n",
       "    <tr>\n",
       "      <th>37</th>\n",
       "      <td>Zaragoza</td>\n",
       "      <td>Hamburg</td>\n",
       "      <td>(41.6521342, -0.8809428)</td>\n",
       "      <td>(53.550341, 10.000654)</td>\n",
       "      <td>1551.5661</td>\n",
       "    </tr>\n",
       "    <tr>\n",
       "      <th>38</th>\n",
       "      <td>Zaragoza</td>\n",
       "      <td>Rome</td>\n",
       "      <td>(41.6521342, -0.8809428)</td>\n",
       "      <td>(41.8933203, 12.4829321)</td>\n",
       "      <td>1110.3378</td>\n",
       "    </tr>\n",
       "    <tr>\n",
       "      <th>39</th>\n",
       "      <td>Zaragoza</td>\n",
       "      <td>Lille</td>\n",
       "      <td>(41.6521342, -0.8809428)</td>\n",
       "      <td>(50.6365654, 3.0635282)</td>\n",
       "      <td>1043.7240</td>\n",
       "    </tr>\n",
       "    <tr>\n",
       "      <th>40</th>\n",
       "      <td>Zaragoza</td>\n",
       "      <td>Liege</td>\n",
       "      <td>(41.6521342, -0.8809428)</td>\n",
       "      <td>(50.6450944, 5.5736112)</td>\n",
       "      <td>1116.0416</td>\n",
       "    </tr>\n",
       "    <tr>\n",
       "      <th>41</th>\n",
       "      <td>Zaragoza</td>\n",
       "      <td>Warsaw</td>\n",
       "      <td>(41.6521342, -0.8809428)</td>\n",
       "      <td>(52.2337172, 21.071432235636493)</td>\n",
       "      <td>2030.6930</td>\n",
       "    </tr>\n",
       "    <tr>\n",
       "      <th>42</th>\n",
       "      <td>Zaragoza</td>\n",
       "      <td>Paris</td>\n",
       "      <td>(41.6521342, -0.8809428)</td>\n",
       "      <td>(48.8588897, 2.3200410217200766)</td>\n",
       "      <td>839.2165</td>\n",
       "    </tr>\n",
       "    <tr>\n",
       "      <th>43</th>\n",
       "      <td>Zaragoza</td>\n",
       "      <td>Lyon</td>\n",
       "      <td>(41.6521342, -0.8809428)</td>\n",
       "      <td>(45.7578137, 4.8320114)</td>\n",
       "      <td>647.8470</td>\n",
       "    </tr>\n",
       "    <tr>\n",
       "      <th>44</th>\n",
       "      <td>Zaragoza</td>\n",
       "      <td>Marseille</td>\n",
       "      <td>(41.6521342, -0.8809428)</td>\n",
       "      <td>(43.2961743, 5.3699525)</td>\n",
       "      <td>545.3384</td>\n",
       "    </tr>\n",
       "    <tr>\n",
       "      <th>45</th>\n",
       "      <td>Zaragoza</td>\n",
       "      <td>Bordeaux</td>\n",
       "      <td>(41.6521342, -0.8809428)</td>\n",
       "      <td>(44.841225, -0.5800364)</td>\n",
       "      <td>355.1412</td>\n",
       "    </tr>\n",
       "    <tr>\n",
       "      <th>46</th>\n",
       "      <td>Zaragoza</td>\n",
       "      <td>Milan</td>\n",
       "      <td>(41.6521342, -0.8809428)</td>\n",
       "      <td>(45.4641943, 9.1896346)</td>\n",
       "      <td>916.3830</td>\n",
       "    </tr>\n",
       "    <tr>\n",
       "      <th>47</th>\n",
       "      <td>Zaragoza</td>\n",
       "      <td>Berlin</td>\n",
       "      <td>(41.6521342, -0.8809428)</td>\n",
       "      <td>(52.5170365, 13.3888599)</td>\n",
       "      <td>1616.8146</td>\n",
       "    </tr>\n",
       "    <tr>\n",
       "      <th>48</th>\n",
       "      <td>Zaragoza</td>\n",
       "      <td>Madrid</td>\n",
       "      <td>(41.6521342, -0.8809428)</td>\n",
       "      <td>(40.4167047, -3.7035825)</td>\n",
       "      <td>274.1376</td>\n",
       "    </tr>\n",
       "    <tr>\n",
       "      <th>49</th>\n",
       "      <td>Zaragoza</td>\n",
       "      <td>Vienna</td>\n",
       "      <td>(41.6521342, -0.8809428)</td>\n",
       "      <td>(48.2083537, 16.3725042)</td>\n",
       "      <td>1539.7663</td>\n",
       "    </tr>\n",
       "  </tbody>\n",
       "</table>\n",
       "</div>"
      ],
      "text/plain": [
       "   city_from_name city_to_name           city_from_coord  \\\n",
       "0      Dusseldorf     Zaragoza   (51.2254018, 6.7763137)   \n",
       "1      Dusseldorf        Venlo   (51.2254018, 6.7763137)   \n",
       "2      Dusseldorf   Bratislava   (51.2254018, 6.7763137)   \n",
       "3      Dusseldorf      Hamburg   (51.2254018, 6.7763137)   \n",
       "4      Dusseldorf         Rome   (51.2254018, 6.7763137)   \n",
       "5      Dusseldorf        Lille   (51.2254018, 6.7763137)   \n",
       "6      Dusseldorf        Liege   (51.2254018, 6.7763137)   \n",
       "7      Dusseldorf       Warsaw   (51.2254018, 6.7763137)   \n",
       "8      Dusseldorf        Paris   (51.2254018, 6.7763137)   \n",
       "9      Dusseldorf         Lyon   (51.2254018, 6.7763137)   \n",
       "10     Dusseldorf    Marseille   (51.2254018, 6.7763137)   \n",
       "11     Dusseldorf     Bordeaux   (51.2254018, 6.7763137)   \n",
       "12     Dusseldorf        Milan   (51.2254018, 6.7763137)   \n",
       "13     Dusseldorf       Berlin   (51.2254018, 6.7763137)   \n",
       "14     Dusseldorf       Madrid   (51.2254018, 6.7763137)   \n",
       "15     Dusseldorf       Vienna   (51.2254018, 6.7763137)   \n",
       "16     Dusseldorf       Munich   (51.2254018, 6.7763137)   \n",
       "17     Dusseldorf    Amsterdam   (51.2254018, 6.7763137)   \n",
       "18     Dusseldorf    Stockholm   (51.2254018, 6.7763137)   \n",
       "19     Dusseldorf   Copenhagen   (51.2254018, 6.7763137)   \n",
       "20     Dusseldorf    Barcelona   (51.2254018, 6.7763137)   \n",
       "21     Dusseldorf      Cologne   (51.2254018, 6.7763137)   \n",
       "22     Dusseldorf       Athens   (51.2254018, 6.7763137)   \n",
       "23     Dusseldorf    Bucharest   (51.2254018, 6.7763137)   \n",
       "24     Dusseldorf     Budapest   (51.2254018, 6.7763137)   \n",
       "25     Dusseldorf       Naples   (51.2254018, 6.7763137)   \n",
       "26     Dusseldorf       Lisbon   (51.2254018, 6.7763137)   \n",
       "27     Dusseldorf        Turin   (51.2254018, 6.7763137)   \n",
       "28     Dusseldorf      Hanover   (51.2254018, 6.7763137)   \n",
       "29     Dusseldorf        Malmö   (51.2254018, 6.7763137)   \n",
       "30     Dusseldorf     Helsinki   (51.2254018, 6.7763137)   \n",
       "31     Dusseldorf       Prague   (51.2254018, 6.7763137)   \n",
       "32     Dusseldorf     Valencia   (51.2254018, 6.7763137)   \n",
       "33     Dusseldorf       Bremen   (51.2254018, 6.7763137)   \n",
       "34     Dusseldorf        Porto   (51.2254018, 6.7763137)   \n",
       "35       Zaragoza        Venlo  (41.6521342, -0.8809428)   \n",
       "36       Zaragoza   Bratislava  (41.6521342, -0.8809428)   \n",
       "37       Zaragoza      Hamburg  (41.6521342, -0.8809428)   \n",
       "38       Zaragoza         Rome  (41.6521342, -0.8809428)   \n",
       "39       Zaragoza        Lille  (41.6521342, -0.8809428)   \n",
       "40       Zaragoza        Liege  (41.6521342, -0.8809428)   \n",
       "41       Zaragoza       Warsaw  (41.6521342, -0.8809428)   \n",
       "42       Zaragoza        Paris  (41.6521342, -0.8809428)   \n",
       "43       Zaragoza         Lyon  (41.6521342, -0.8809428)   \n",
       "44       Zaragoza    Marseille  (41.6521342, -0.8809428)   \n",
       "45       Zaragoza     Bordeaux  (41.6521342, -0.8809428)   \n",
       "46       Zaragoza        Milan  (41.6521342, -0.8809428)   \n",
       "47       Zaragoza       Berlin  (41.6521342, -0.8809428)   \n",
       "48       Zaragoza       Madrid  (41.6521342, -0.8809428)   \n",
       "49       Zaragoza       Vienna  (41.6521342, -0.8809428)   \n",
       "\n",
       "                        city_to_coord   distance  \n",
       "0            (41.6521342, -0.8809428)  1214.4772  \n",
       "1   (51.39244885, 6.1511724144122955)    47.3876  \n",
       "2            (48.1516988, 17.1093063)   819.2894  \n",
       "3              (53.550341, 10.000654)   339.2215  \n",
       "4            (41.8933203, 12.4829321)  1125.0290  \n",
       "5             (50.6365654, 3.0635282)   269.0769  \n",
       "6             (50.6450944, 5.5736112)   106.3716  \n",
       "7    (52.2337172, 21.071432235636493)   992.3709  \n",
       "8    (48.8588897, 2.3200410217200766)   413.6191  \n",
       "9             (45.7578137, 4.8320114)   624.6864  \n",
       "10            (43.2961743, 5.3699525)   887.8947  \n",
       "11            (44.841225, -0.5800364)   896.2065  \n",
       "12            (45.4641943, 9.1896346)   665.0376  \n",
       "13           (52.5170365, 13.3888599)   477.3717  \n",
       "14           (40.4167047, -3.7035825)  1448.2241  \n",
       "15           (48.2083537, 16.3725042)   768.3073  \n",
       "16           (48.1371079, 11.5753822)   487.5926  \n",
       "17            (52.3727598, 4.8936041)   182.1019  \n",
       "18           (59.3251172, 18.0710935)  1149.3691  \n",
       "19           (55.6867243, 12.5700724)   627.7653  \n",
       "20            (41.3828939, 2.1774322)  1149.4065  \n",
       "21              (50.938361, 6.959974)    34.4291  \n",
       "22           (37.9839412, 23.7283052)  1984.4370  \n",
       "23           (44.4361414, 26.1027202)  1625.1608  \n",
       "24           (47.4979937, 19.0403594)   980.9822  \n",
       "25           (40.8358846, 14.2487679)  1290.0187  \n",
       "26           (38.7077507, -9.1365919)  1865.7471  \n",
       "27            (45.0677551, 7.6824892)   687.9850  \n",
       "28            (52.3744779, 9.7385532)   241.0170  \n",
       "29           (55.6052931, 13.0001566)   638.9220  \n",
       "30           (60.1674881, 24.9427473)  1506.2793  \n",
       "31           (50.0874654, 14.4212535)   554.9521  \n",
       "32           (39.4697065, -0.3763353)  1420.0225  \n",
       "33            (53.0758196, 8.8071646)   248.4044  \n",
       "34           (41.1494512, -8.6107884)  1626.5104  \n",
       "35  (51.39244885, 6.1511724144122955)  1208.4067  \n",
       "36           (48.1516988, 17.1093063)  1588.6230  \n",
       "37             (53.550341, 10.000654)  1551.5661  \n",
       "38           (41.8933203, 12.4829321)  1110.3378  \n",
       "39            (50.6365654, 3.0635282)  1043.7240  \n",
       "40            (50.6450944, 5.5736112)  1116.0416  \n",
       "41   (52.2337172, 21.071432235636493)  2030.6930  \n",
       "42   (48.8588897, 2.3200410217200766)   839.2165  \n",
       "43            (45.7578137, 4.8320114)   647.8470  \n",
       "44            (43.2961743, 5.3699525)   545.3384  \n",
       "45            (44.841225, -0.5800364)   355.1412  \n",
       "46            (45.4641943, 9.1896346)   916.3830  \n",
       "47           (52.5170365, 13.3888599)  1616.8146  \n",
       "48           (40.4167047, -3.7035825)   274.1376  \n",
       "49           (48.2083537, 16.3725042)  1539.7663  "
      ]
     },
     "execution_count": 10,
     "metadata": {},
     "output_type": "execute_result"
    }
   ],
   "source": [
    "df_dists.head(50)"
   ]
  },
  {
   "cell_type": "markdown",
   "metadata": {},
   "source": [
    "## encode"
   ]
  },
  {
   "cell_type": "code",
   "execution_count": 44,
   "metadata": {},
   "outputs": [],
   "source": [
    "def simple_encode(value):\n",
    "    global encoding_dict\n",
    "    if value not in list(encoding_dict.keys()):\n",
    "        try:\n",
    "            prev_val = encoding_dict[list(encoding_dict.keys())[-1]]\n",
    "        except IndexError:\n",
    "            prev_val = 0\n",
    "        encoding_dict[value] = prev_val + 1\n",
    "    return encoding_dict[value]"
   ]
  },
  {
   "cell_type": "code",
   "execution_count": 54,
   "metadata": {},
   "outputs": [],
   "source": [
    "encoding_dict = {}\n",
    "company = correct_delivery['3pl'].apply(lambda x: simple_encode(x))\n",
    "encoding_dict = {}\n",
    "procedures = correct_delivery['customs_procedures'].apply(lambda x: simple_encode(x))"
   ]
  },
  {
   "cell_type": "code",
   "execution_count": null,
   "metadata": {},
   "outputs": [],
   "source": [
    "desc = pd.DataFrame({'values':[], 'frequency':[]})\n",
    "occurrrences = df_orders['customs_procedure'].value_counts(ascending=False)\n",
    "desc['values'] = list(occurrrences.keys())\n",
    "desc['frequency'] = list(occurrrences)\n",
    "display(desc)"
   ]
  },
  {
   "cell_type": "code",
   "execution_count": 61,
   "metadata": {},
   "outputs": [
    {
     "data": {
      "text/html": [
       "<div>\n",
       "<style scoped>\n",
       "    .dataframe tbody tr th:only-of-type {\n",
       "        vertical-align: middle;\n",
       "    }\n",
       "\n",
       "    .dataframe tbody tr th {\n",
       "        vertical-align: top;\n",
       "    }\n",
       "\n",
       "    .dataframe thead th {\n",
       "        text-align: right;\n",
       "    }\n",
       "</style>\n",
       "<table border=\"1\" class=\"dataframe\">\n",
       "  <thead>\n",
       "    <tr style=\"text-align: right;\">\n",
       "      <th></th>\n",
       "      <th>company</th>\n",
       "      <th>procedures</th>\n",
       "    </tr>\n",
       "  </thead>\n",
       "  <tbody>\n",
       "    <tr>\n",
       "      <th>company</th>\n",
       "      <td>1.000000</td>\n",
       "      <td>-0.000139</td>\n",
       "    </tr>\n",
       "    <tr>\n",
       "      <th>procedures</th>\n",
       "      <td>-0.000139</td>\n",
       "      <td>1.000000</td>\n",
       "    </tr>\n",
       "  </tbody>\n",
       "</table>\n",
       "</div>"
      ],
      "text/plain": [
       "             company  procedures\n",
       "company     1.000000   -0.000139\n",
       "procedures -0.000139    1.000000"
      ]
     },
     "execution_count": 61,
     "metadata": {},
     "output_type": "execute_result"
    }
   ],
   "source": [
    "mat"
   ]
  },
  {
   "cell_type": "code",
   "execution_count": 60,
   "metadata": {},
   "outputs": [
    {
     "name": "stdout",
     "output_type": "stream",
     "text": [
      "<class 'pandas.core.frame.DataFrame'>\n",
      "Int64Index: 87120 entries, 1 to 114275\n",
      "Data columns (total 2 columns):\n",
      " #   Column      Non-Null Count  Dtype\n",
      "---  ------      --------------  -----\n",
      " 0   company     87120 non-null  int64\n",
      " 1   procedures  87120 non-null  int64\n",
      "dtypes: int64(2)\n",
      "memory usage: 2.0 MB\n"
     ]
    },
    {
     "data": {
      "image/png": "[encoded data removed]",
      "text/plain": [
       "<Figure size 480x480 with 1 Axes>"
      ]
     },
     "metadata": {},
     "output_type": "display_data"
    }
   ],
   "source": [
    "temp = pd.DataFrame()\n",
    "temp['company'] = company\n",
    "temp['procedures'] = procedures\n",
    "temp.info()\n",
    "mat = temp.corr()\n",
    "plt.matshow(mat)\n",
    "plt.show()"
   ]
  },
  {
   "cell_type": "markdown",
   "metadata": {},
   "source": [
    "# Train Model"
   ]
  },
  {
   "cell_type": "code",
   "execution_count": 96,
   "metadata": {},
   "outputs": [],
   "source": [
    "from scipy.stats import iqr\n",
    "from scipy.stats import chi2_contingency\n",
    "from sklearn.preprocessing import StandardScaler\n",
    "from sklearn.preprocessing import Normalizer\n",
    "from sklearn.preprocessing import MinMaxScaler\n",
    "from sklearn.preprocessing import LabelEncoder\n",
    "from sklearn.model_selection import train_test_split\n",
    "from sklearn.linear_model import SGDClassifier\n",
    "from sklearn.svm import SVC\n",
    "from sklearn.model_selection import train_test_split\n",
    "from sklearn.metrics import accuracy_score, auc, roc_curve, classification_report, confusion_matrix, precision_score, recall_score, precision_recall_curve\n",
    "from sklearn.tree import DecisionTreeClassifier\n",
    "from sklearn.ensemble import RandomForestClassifier, GradientBoostingClassifier, VotingClassifier, AdaBoostClassifier \n",
    "from sklearn.model_selection import KFold\n",
    "from sklearn.model_selection import cross_val_score\n",
    "from sklearn.model_selection import StratifiedKFold"
   ]
  },
  {
   "cell_type": "code",
   "execution_count": 254,
   "metadata": {},
   "outputs": [
    {
     "data": {
      "text/plain": [
       "LabelEncoder()"
      ]
     },
     "execution_count": 254,
     "metadata": {},
     "output_type": "execute_result"
    }
   ],
   "source": [
    "cities = np.append(pd.concat([df_dists.city_from_name, df_dists.city_to_name]).unique(), 'no hub')\n",
    "city_encoder = LabelEncoder()\n",
    "city_encoder.fit(cities)\n",
    "encoder_3pl = LabelEncoder()\n",
    "encoder_3pl.fit(df_orders['3pl'])\n",
    "encoder_CP = LabelEncoder()\n",
    "encoder_CP.fit(df_orders['customs_procedures'])"
   ]
  },
  {
   "cell_type": "code",
   "execution_count": 186,
   "metadata": {},
   "outputs": [],
   "source": [
    "final_df = pd.merge(df_orders, df_products, how='inner', on=\"product_id\")\n",
    "final_df['units_weights'] = final_df.weight * final_df.units\n",
    "final_df['origin_port'] = df_orders['origin_port'].apply(lambda x: city_encoder.transform([x])[0])\n",
    "final_df[\"logistic_hub\"].fillna(\"no hub\", inplace = True)\n",
    "final_df['logistic_hub'] = final_df['logistic_hub'].apply(lambda x: city_encoder.transform([x])[0])\n",
    "final_df['customer'] = df_orders['customer'].apply(lambda x: city_encoder.transform([x])[0])\n",
    "final_df['3pl'] = df_orders['3pl'].apply(lambda x: encoder_3pl.transform([x])[0])\n",
    "final_df['customs_procedures'] = df_orders['customs_procedures'].apply(lambda x: encoder_CP.transform([x])[0])\n",
    "final_df = final_df[['origin_port', '3pl', 'customs_procedures', 'logistic_hub', \n",
    "                     'customer', 'material_handling', 'units_weights', 'late_order']]\n",
    "final_df.info()"
   ]
  },
  {
   "cell_type": "code",
   "execution_count": 191,
   "metadata": {},
   "outputs": [
    {
     "name": "stdout",
     "output_type": "stream",
     "text": [
      "<class 'pandas.core.frame.DataFrame'>\n",
      "Int64Index: 114158 entries, 0 to 114157\n",
      "Data columns (total 8 columns):\n",
      " #   Column              Non-Null Count   Dtype\n",
      "---  ------              --------------   -----\n",
      " 0   origin_port         114158 non-null  int32\n",
      " 1   3pl                 114158 non-null  int32\n",
      " 2   customs_procedures  114158 non-null  int32\n",
      " 3   logistic_hub        114158 non-null  int32\n",
      " 4   customer            114158 non-null  int32\n",
      " 5   material_handling   114158 non-null  int64\n",
      " 6   units_weights       114158 non-null  int64\n",
      " 7   late_order          114158 non-null  bool \n",
      "dtypes: bool(1), int32(5), int64(2)\n",
      "memory usage: 4.9 MB\n"
     ]
    }
   ],
   "source": []
  },
  {
   "cell_type": "code",
   "execution_count": 195,
   "metadata": {},
   "outputs": [],
   "source": [
    "X_train, X_test, y_train, y_test= train_test_split(final_df.iloc[:,:-1], final_df.iloc[:,-1], test_size=0.20, random_state=0) #test_size=0.33 camb"
   ]
  },
  {
   "cell_type": "code",
   "execution_count": 196,
   "metadata": {},
   "outputs": [
    {
     "name": "stdout",
     "output_type": "stream",
     "text": [
      "<class 'pandas.core.frame.DataFrame'>\n",
      "Int64Index: 91326 entries, 87661 to 68268\n",
      "Data columns (total 7 columns):\n",
      " #   Column              Non-Null Count  Dtype\n",
      "---  ------              --------------  -----\n",
      " 0   origin_port         91326 non-null  int32\n",
      " 1   3pl                 91326 non-null  int32\n",
      " 2   customs_procedures  91326 non-null  int32\n",
      " 3   logistic_hub        91326 non-null  int32\n",
      " 4   customer            91326 non-null  int32\n",
      " 5   material_handling   91326 non-null  int64\n",
      " 6   units_weights       91326 non-null  int64\n",
      "dtypes: int32(5), int64(2)\n",
      "memory usage: 3.8 MB\n"
     ]
    }
   ],
   "source": [
    "X_train.info()"
   ]
  },
  {
   "cell_type": "code",
   "execution_count": 197,
   "metadata": {},
   "outputs": [
    {
     "data": {
      "text/plain": [
       "RandomForestClassifier()"
      ]
     },
     "execution_count": 197,
     "metadata": {},
     "output_type": "execute_result"
    }
   ],
   "source": [
    "clf = RandomForestClassifier()\n",
    "clf.fit(X_train, y_train)"
   ]
  },
  {
   "cell_type": "code",
   "execution_count": 204,
   "metadata": {},
   "outputs": [],
   "source": [
    "pred_proba = clf.predict_proba(X_test)[:,1]"
   ]
  },
  {
   "cell_type": "code",
   "execution_count": 211,
   "metadata": {},
   "outputs": [],
   "source": [
    "pred_y = [1  if pred_proba[i] >= 0.5 else 0 for i in range(len(pred_proba))]"
   ]
  },
  {
   "cell_type": "code",
   "execution_count": 219,
   "metadata": {},
   "outputs": [
    {
     "name": "stdout",
     "output_type": "stream",
     "text": [
      "0.7725998598458305\n"
     ]
    }
   ],
   "source": [
    "accuracy = 0\n",
    "for i in range(len(pred_proba)):\n",
    "    if pred_y[i] == list(y_test)[i]:\n",
    "        accuracy+=1\n",
    "print(accuracy/len(pred_proba))"
   ]
  },
  {
   "cell_type": "code",
   "execution_count": 220,
   "metadata": {},
   "outputs": [
    {
     "data": {
      "text/plain": [
       "3166"
      ]
     },
     "execution_count": 220,
     "metadata": {},
     "output_type": "execute_result"
    }
   ],
   "source": [
    "np.sum(pred_y)"
   ]
  },
  {
   "cell_type": "code",
   "execution_count": 222,
   "metadata": {},
   "outputs": [
    {
     "data": {
      "text/html": [
       "<div>\n",
       "<style scoped>\n",
       "    .dataframe tbody tr th:only-of-type {\n",
       "        vertical-align: middle;\n",
       "    }\n",
       "\n",
       "    .dataframe tbody tr th {\n",
       "        vertical-align: top;\n",
       "    }\n",
       "\n",
       "    .dataframe thead th {\n",
       "        text-align: right;\n",
       "    }\n",
       "</style>\n",
       "<table border=\"1\" class=\"dataframe\">\n",
       "  <thead>\n",
       "    <tr style=\"text-align: right;\">\n",
       "      <th></th>\n",
       "      <th>order_id</th>\n",
       "      <th>origin_port</th>\n",
       "      <th>3pl</th>\n",
       "      <th>customs_procedures</th>\n",
       "      <th>logistic_hub</th>\n",
       "      <th>customer</th>\n",
       "      <th>product_id</th>\n",
       "      <th>units</th>\n",
       "    </tr>\n",
       "  </thead>\n",
       "  <tbody>\n",
       "    <tr>\n",
       "      <th>0</th>\n",
       "      <td>0e364fa5c795</td>\n",
       "      <td>Rotterdam</td>\n",
       "      <td>v_002</td>\n",
       "      <td>CRF</td>\n",
       "      <td>Warsaw</td>\n",
       "      <td>Munich</td>\n",
       "      <td>1687644</td>\n",
       "      <td>477</td>\n",
       "    </tr>\n",
       "    <tr>\n",
       "      <th>1</th>\n",
       "      <td>3ef49bd5a55b</td>\n",
       "      <td>Barcelona</td>\n",
       "      <td>v_002</td>\n",
       "      <td>CRF</td>\n",
       "      <td>Venlo</td>\n",
       "      <td>Berlin</td>\n",
       "      <td>1699689</td>\n",
       "      <td>240</td>\n",
       "    </tr>\n",
       "    <tr>\n",
       "      <th>2</th>\n",
       "      <td>9ab5b9685bd5</td>\n",
       "      <td>Rotterdam</td>\n",
       "      <td>v_004</td>\n",
       "      <td>DTD</td>\n",
       "      <td>Bratislava</td>\n",
       "      <td>Paris</td>\n",
       "      <td>1652615</td>\n",
       "      <td>506</td>\n",
       "    </tr>\n",
       "    <tr>\n",
       "      <th>3</th>\n",
       "      <td>bfce5b4fc4fa</td>\n",
       "      <td>Rotterdam</td>\n",
       "      <td>v_002</td>\n",
       "      <td>DTD</td>\n",
       "      <td>Rome</td>\n",
       "      <td>Hanover</td>\n",
       "      <td>1669740</td>\n",
       "      <td>553</td>\n",
       "    </tr>\n",
       "    <tr>\n",
       "      <th>4</th>\n",
       "      <td>d94453ec8ec5</td>\n",
       "      <td>Barcelona</td>\n",
       "      <td>v_001</td>\n",
       "      <td>CRF</td>\n",
       "      <td>Bratislava</td>\n",
       "      <td>Copenhagen</td>\n",
       "      <td>1695138</td>\n",
       "      <td>482</td>\n",
       "    </tr>\n",
       "    <tr>\n",
       "      <th>...</th>\n",
       "      <td>...</td>\n",
       "      <td>...</td>\n",
       "      <td>...</td>\n",
       "      <td>...</td>\n",
       "      <td>...</td>\n",
       "      <td>...</td>\n",
       "      <td>...</td>\n",
       "      <td>...</td>\n",
       "    </tr>\n",
       "    <tr>\n",
       "      <th>28558</th>\n",
       "      <td>d268acf6459e</td>\n",
       "      <td>Athens</td>\n",
       "      <td>v_004</td>\n",
       "      <td>CRF</td>\n",
       "      <td>Dusseldorf</td>\n",
       "      <td>Naples</td>\n",
       "      <td>1657474</td>\n",
       "      <td>496</td>\n",
       "    </tr>\n",
       "    <tr>\n",
       "      <th>28559</th>\n",
       "      <td>1aefc30b0eb3</td>\n",
       "      <td>Rotterdam</td>\n",
       "      <td>v_004</td>\n",
       "      <td>DTD</td>\n",
       "      <td>Hamburg</td>\n",
       "      <td>Bordeaux</td>\n",
       "      <td>1657437</td>\n",
       "      <td>577</td>\n",
       "    </tr>\n",
       "    <tr>\n",
       "      <th>28560</th>\n",
       "      <td>646a2e50e170</td>\n",
       "      <td>Rotterdam</td>\n",
       "      <td>v_001</td>\n",
       "      <td>CRF</td>\n",
       "      <td>Venlo</td>\n",
       "      <td>Milan</td>\n",
       "      <td>1689781</td>\n",
       "      <td>483</td>\n",
       "    </tr>\n",
       "    <tr>\n",
       "      <th>28561</th>\n",
       "      <td>bf5177549be9</td>\n",
       "      <td>ATHENAS</td>\n",
       "      <td>v_001</td>\n",
       "      <td>CRF</td>\n",
       "      <td>Lille</td>\n",
       "      <td>Milan</td>\n",
       "      <td>1672088</td>\n",
       "      <td>564</td>\n",
       "    </tr>\n",
       "    <tr>\n",
       "      <th>28562</th>\n",
       "      <td>525dafc0ad62</td>\n",
       "      <td>Rotterdam</td>\n",
       "      <td>v_004</td>\n",
       "      <td>CRF</td>\n",
       "      <td>Rome</td>\n",
       "      <td>Budapest</td>\n",
       "      <td>1699949</td>\n",
       "      <td>462</td>\n",
       "    </tr>\n",
       "  </tbody>\n",
       "</table>\n",
       "<p>28563 rows × 8 columns</p>\n",
       "</div>"
      ],
      "text/plain": [
       "           order_id origin_port    3pl customs_procedures logistic_hub  \\\n",
       "0      0e364fa5c795   Rotterdam  v_002                CRF       Warsaw   \n",
       "1      3ef49bd5a55b   Barcelona  v_002                CRF        Venlo   \n",
       "2      9ab5b9685bd5   Rotterdam  v_004                DTD   Bratislava   \n",
       "3      bfce5b4fc4fa   Rotterdam  v_002                DTD         Rome   \n",
       "4      d94453ec8ec5   Barcelona  v_001                CRF   Bratislava   \n",
       "...             ...         ...    ...                ...          ...   \n",
       "28558  d268acf6459e      Athens  v_004                CRF   Dusseldorf   \n",
       "28559  1aefc30b0eb3   Rotterdam  v_004                DTD      Hamburg   \n",
       "28560  646a2e50e170   Rotterdam  v_001                CRF        Venlo   \n",
       "28561  bf5177549be9     ATHENAS  v_001                CRF        Lille   \n",
       "28562  525dafc0ad62   Rotterdam  v_004                CRF         Rome   \n",
       "\n",
       "         customer  product_id  units  \n",
       "0          Munich     1687644    477  \n",
       "1          Berlin     1699689    240  \n",
       "2           Paris     1652615    506  \n",
       "3         Hanover     1669740    553  \n",
       "4      Copenhagen     1695138    482  \n",
       "...           ...         ...    ...  \n",
       "28558      Naples     1657474    496  \n",
       "28559    Bordeaux     1657437    577  \n",
       "28560       Milan     1689781    483  \n",
       "28561       Milan     1672088    564  \n",
       "28562    Budapest     1699949    462  \n",
       "\n",
       "[28563 rows x 8 columns]"
      ]
     },
     "execution_count": 222,
     "metadata": {},
     "output_type": "execute_result"
    }
   ],
   "source": [
    "df_test"
   ]
  },
  {
   "cell_type": "markdown",
   "metadata": {},
   "source": [
    "## Test"
   ]
  },
  {
   "cell_type": "code",
   "execution_count": 255,
   "metadata": {},
   "outputs": [],
   "source": [
    "df_test = df_test.apply(lambda x: wrong_cities(x), axis = 1)"
   ]
  },
  {
   "cell_type": "code",
   "execution_count": 256,
   "metadata": {},
   "outputs": [
    {
     "data": {
      "text/plain": [
       "763"
      ]
     },
     "execution_count": 256,
     "metadata": {},
     "output_type": "execute_result"
    }
   ],
   "source": [
    "len(df_test.product_id.unique())"
   ]
  },
  {
   "cell_type": "code",
   "execution_count": 267,
   "metadata": {},
   "outputs": [],
   "source": [
    "prods_test = list(df_test.product_id.unique())\n",
    "prods = list(df_products.product_id.unique())\n",
    "for "
   ]
  },
  {
   "cell_type": "code",
   "execution_count": 266,
   "metadata": {},
   "outputs": [
    {
     "name": "stdout",
     "output_type": "stream",
     "text": [
      "<class 'pandas.core.frame.DataFrame'>\n",
      "Int64Index: 28518 entries, 0 to 28517\n",
      "Data columns (total 10 columns):\n",
      " #   Column              Non-Null Count  Dtype \n",
      "---  ------              --------------  ----- \n",
      " 0   order_id            28518 non-null  object\n",
      " 1   origin_port         28518 non-null  object\n",
      " 2   3pl                 28518 non-null  object\n",
      " 3   customs_procedures  28518 non-null  object\n",
      " 4   logistic_hub        28253 non-null  object\n",
      " 5   customer            28518 non-null  object\n",
      " 6   product_id          28518 non-null  int64 \n",
      " 7   units               28518 non-null  int64 \n",
      " 8   weight              28518 non-null  int64 \n",
      " 9   material_handling   28518 non-null  int64 \n",
      "dtypes: int64(4), object(6)\n",
      "memory usage: 2.4+ MB\n"
     ]
    }
   ],
   "source": [
    "final_df = pd.merge(df_test, df_products, how='inner', on=\"product_id\")\n",
    "final_df.info()"
   ]
  },
  {
   "cell_type": "code",
   "execution_count": 257,
   "metadata": {},
   "outputs": [
    {
     "name": "stdout",
     "output_type": "stream",
     "text": [
      "<class 'pandas.core.frame.DataFrame'>\n",
      "Int64Index: 28563 entries, 0 to 28562\n",
      "Data columns (total 7 columns):\n",
      " #   Column              Non-Null Count  Dtype  \n",
      "---  ------              --------------  -----  \n",
      " 0   origin_port         28563 non-null  int32  \n",
      " 1   3pl                 28563 non-null  int32  \n",
      " 2   customs_procedures  28563 non-null  int32  \n",
      " 3   logistic_hub        28563 non-null  int32  \n",
      " 4   customer            28563 non-null  int32  \n",
      " 5   material_handling   28518 non-null  float64\n",
      " 6   units_weights       28518 non-null  float64\n",
      "dtypes: float64(2), int32(5)\n",
      "memory usage: 1.2 MB\n"
     ]
    }
   ],
   "source": [
    "final_df = pd.merge(df_test, df_products, how='left', on=\"product_id\")\n",
    "final_df['units_weights'] = final_df.weight * final_df.units\n",
    "final_df['origin_port'] = df_orders['origin_port'].apply(lambda x: city_encoder.transform([x])[0])\n",
    "final_df[\"logistic_hub\"].fillna(\"no hub\", inplace = True)\n",
    "final_df['logistic_hub'] = final_df['logistic_hub'].apply(lambda x: city_encoder.transform([x])[0])\n",
    "final_df['customer'] = df_orders['customer'].apply(lambda x: city_encoder.transform([x])[0])\n",
    "final_df['3pl'] = df_orders['3pl'].apply(lambda x: encoder_3pl.transform([x])[0])\n",
    "final_df['customs_procedures'] = df_orders['customs_procedures'].apply(lambda x: encoder_CP.transform([x])[0])\n",
    "final_df = final_df[['origin_port', '3pl', 'customs_procedures', 'logistic_hub', \n",
    "                     'customer', 'material_handling', 'units_weights']]\n",
    "final_df.info()"
   ]
  },
  {
   "cell_type": "code",
   "execution_count": 245,
   "metadata": {},
   "outputs": [
    {
     "ename": "ValueError",
     "evalue": "Input contains NaN, infinity or a value too large for dtype('float32').",
     "output_type": "error",
     "traceback": [
      "\u001b[1;31m---------------------------------------------------------------------------\u001b[0m",
      "\u001b[1;31mValueError\u001b[0m                                Traceback (most recent call last)",
      "\u001b[1;32m~\\AppData\\Local\\Temp\\ipykernel_16280\\1181628865.py\u001b[0m in \u001b[0;36m<module>\u001b[1;34m\u001b[0m\n\u001b[1;32m----> 1\u001b[1;33m \u001b[0mpredictions\u001b[0m \u001b[1;33m=\u001b[0m \u001b[0mclf\u001b[0m\u001b[1;33m.\u001b[0m\u001b[0mpredict_proba\u001b[0m\u001b[1;33m(\u001b[0m\u001b[0mfinal_df\u001b[0m\u001b[1;33m)\u001b[0m\u001b[1;33m[\u001b[0m\u001b[1;33m:\u001b[0m\u001b[1;33m,\u001b[0m\u001b[1;36m1\u001b[0m\u001b[1;33m]\u001b[0m\u001b[1;33m\u001b[0m\u001b[1;33m\u001b[0m\u001b[0m\n\u001b[0m\u001b[0;32m      2\u001b[0m \u001b[0msubmission\u001b[0m \u001b[1;33m=\u001b[0m \u001b[0mpd\u001b[0m\u001b[1;33m.\u001b[0m\u001b[0mDataFrame\u001b[0m\u001b[1;33m(\u001b[0m\u001b[1;33m{\u001b[0m\u001b[1;34m\"order_id\"\u001b[0m\u001b[1;33m:\u001b[0m \u001b[0mdf_test\u001b[0m\u001b[1;33m.\u001b[0m\u001b[0morder_id\u001b[0m\u001b[1;33m,\u001b[0m \u001b[1;34m\"late_order\"\u001b[0m\u001b[1;33m:\u001b[0m \u001b[0mpredictions\u001b[0m\u001b[1;33m}\u001b[0m\u001b[1;33m)\u001b[0m\u001b[1;33m\u001b[0m\u001b[1;33m\u001b[0m\u001b[0m\n\u001b[0;32m      3\u001b[0m \u001b[0msubmission\u001b[0m\u001b[1;33m.\u001b[0m\u001b[0mto_csv\u001b[0m\u001b[1;33m(\u001b[0m\u001b[1;34m\"submission_kaggle.csv\"\u001b[0m\u001b[1;33m,\u001b[0m \u001b[0mindex\u001b[0m\u001b[1;33m=\u001b[0m\u001b[1;32mFalse\u001b[0m\u001b[1;33m)\u001b[0m\u001b[1;33m\u001b[0m\u001b[1;33m\u001b[0m\u001b[0m\n",
      "\u001b[1;32mC:\\eduard\\uni\\Softwares\\anaconda\\To_install\\lib\\site-packages\\sklearn\\ensemble\\_forest.py\u001b[0m in \u001b[0;36mpredict_proba\u001b[1;34m(self, X)\u001b[0m\n\u001b[0;32m    848\u001b[0m         \u001b[0mcheck_is_fitted\u001b[0m\u001b[1;33m(\u001b[0m\u001b[0mself\u001b[0m\u001b[1;33m)\u001b[0m\u001b[1;33m\u001b[0m\u001b[1;33m\u001b[0m\u001b[0m\n\u001b[0;32m    849\u001b[0m         \u001b[1;31m# Check data\u001b[0m\u001b[1;33m\u001b[0m\u001b[1;33m\u001b[0m\u001b[0m\n\u001b[1;32m--> 850\u001b[1;33m         \u001b[0mX\u001b[0m \u001b[1;33m=\u001b[0m \u001b[0mself\u001b[0m\u001b[1;33m.\u001b[0m\u001b[0m_validate_X_predict\u001b[0m\u001b[1;33m(\u001b[0m\u001b[0mX\u001b[0m\u001b[1;33m)\u001b[0m\u001b[1;33m\u001b[0m\u001b[1;33m\u001b[0m\u001b[0m\n\u001b[0m\u001b[0;32m    851\u001b[0m \u001b[1;33m\u001b[0m\u001b[0m\n\u001b[0;32m    852\u001b[0m         \u001b[1;31m# Assign chunk of trees to jobs\u001b[0m\u001b[1;33m\u001b[0m\u001b[1;33m\u001b[0m\u001b[0m\n",
      "\u001b[1;32mC:\\eduard\\uni\\Softwares\\anaconda\\To_install\\lib\\site-packages\\sklearn\\ensemble\\_forest.py\u001b[0m in \u001b[0;36m_validate_X_predict\u001b[1;34m(self, X)\u001b[0m\n\u001b[0;32m    577\u001b[0m         Validate X whenever one tries to predict, apply, predict_proba.\"\"\"\n\u001b[0;32m    578\u001b[0m         \u001b[0mcheck_is_fitted\u001b[0m\u001b[1;33m(\u001b[0m\u001b[0mself\u001b[0m\u001b[1;33m)\u001b[0m\u001b[1;33m\u001b[0m\u001b[1;33m\u001b[0m\u001b[0m\n\u001b[1;32m--> 579\u001b[1;33m         \u001b[0mX\u001b[0m \u001b[1;33m=\u001b[0m \u001b[0mself\u001b[0m\u001b[1;33m.\u001b[0m\u001b[0m_validate_data\u001b[0m\u001b[1;33m(\u001b[0m\u001b[0mX\u001b[0m\u001b[1;33m,\u001b[0m \u001b[0mdtype\u001b[0m\u001b[1;33m=\u001b[0m\u001b[0mDTYPE\u001b[0m\u001b[1;33m,\u001b[0m \u001b[0maccept_sparse\u001b[0m\u001b[1;33m=\u001b[0m\u001b[1;34m\"csr\"\u001b[0m\u001b[1;33m,\u001b[0m \u001b[0mreset\u001b[0m\u001b[1;33m=\u001b[0m\u001b[1;32mFalse\u001b[0m\u001b[1;33m)\u001b[0m\u001b[1;33m\u001b[0m\u001b[1;33m\u001b[0m\u001b[0m\n\u001b[0m\u001b[0;32m    580\u001b[0m         \u001b[1;32mif\u001b[0m \u001b[0missparse\u001b[0m\u001b[1;33m(\u001b[0m\u001b[0mX\u001b[0m\u001b[1;33m)\u001b[0m \u001b[1;32mand\u001b[0m \u001b[1;33m(\u001b[0m\u001b[0mX\u001b[0m\u001b[1;33m.\u001b[0m\u001b[0mindices\u001b[0m\u001b[1;33m.\u001b[0m\u001b[0mdtype\u001b[0m \u001b[1;33m!=\u001b[0m \u001b[0mnp\u001b[0m\u001b[1;33m.\u001b[0m\u001b[0mintc\u001b[0m \u001b[1;32mor\u001b[0m \u001b[0mX\u001b[0m\u001b[1;33m.\u001b[0m\u001b[0mindptr\u001b[0m\u001b[1;33m.\u001b[0m\u001b[0mdtype\u001b[0m \u001b[1;33m!=\u001b[0m \u001b[0mnp\u001b[0m\u001b[1;33m.\u001b[0m\u001b[0mintc\u001b[0m\u001b[1;33m)\u001b[0m\u001b[1;33m:\u001b[0m\u001b[1;33m\u001b[0m\u001b[1;33m\u001b[0m\u001b[0m\n\u001b[0;32m    581\u001b[0m             \u001b[1;32mraise\u001b[0m \u001b[0mValueError\u001b[0m\u001b[1;33m(\u001b[0m\u001b[1;34m\"No support for np.int64 index based sparse matrices\"\u001b[0m\u001b[1;33m)\u001b[0m\u001b[1;33m\u001b[0m\u001b[1;33m\u001b[0m\u001b[0m\n",
      "\u001b[1;32mC:\\eduard\\uni\\Softwares\\anaconda\\To_install\\lib\\site-packages\\sklearn\\base.py\u001b[0m in \u001b[0;36m_validate_data\u001b[1;34m(self, X, y, reset, validate_separately, **check_params)\u001b[0m\n\u001b[0;32m    564\u001b[0m             \u001b[1;32mraise\u001b[0m \u001b[0mValueError\u001b[0m\u001b[1;33m(\u001b[0m\u001b[1;34m\"Validation should be done on X, y or both.\"\u001b[0m\u001b[1;33m)\u001b[0m\u001b[1;33m\u001b[0m\u001b[1;33m\u001b[0m\u001b[0m\n\u001b[0;32m    565\u001b[0m         \u001b[1;32melif\u001b[0m \u001b[1;32mnot\u001b[0m \u001b[0mno_val_X\u001b[0m \u001b[1;32mand\u001b[0m \u001b[0mno_val_y\u001b[0m\u001b[1;33m:\u001b[0m\u001b[1;33m\u001b[0m\u001b[1;33m\u001b[0m\u001b[0m\n\u001b[1;32m--> 566\u001b[1;33m             \u001b[0mX\u001b[0m \u001b[1;33m=\u001b[0m \u001b[0mcheck_array\u001b[0m\u001b[1;33m(\u001b[0m\u001b[0mX\u001b[0m\u001b[1;33m,\u001b[0m \u001b[1;33m**\u001b[0m\u001b[0mcheck_params\u001b[0m\u001b[1;33m)\u001b[0m\u001b[1;33m\u001b[0m\u001b[1;33m\u001b[0m\u001b[0m\n\u001b[0m\u001b[0;32m    567\u001b[0m             \u001b[0mout\u001b[0m \u001b[1;33m=\u001b[0m \u001b[0mX\u001b[0m\u001b[1;33m\u001b[0m\u001b[1;33m\u001b[0m\u001b[0m\n\u001b[0;32m    568\u001b[0m         \u001b[1;32melif\u001b[0m \u001b[0mno_val_X\u001b[0m \u001b[1;32mand\u001b[0m \u001b[1;32mnot\u001b[0m \u001b[0mno_val_y\u001b[0m\u001b[1;33m:\u001b[0m\u001b[1;33m\u001b[0m\u001b[1;33m\u001b[0m\u001b[0m\n",
      "\u001b[1;32mC:\\eduard\\uni\\Softwares\\anaconda\\To_install\\lib\\site-packages\\sklearn\\utils\\validation.py\u001b[0m in \u001b[0;36mcheck_array\u001b[1;34m(array, accept_sparse, accept_large_sparse, dtype, order, copy, force_all_finite, ensure_2d, allow_nd, ensure_min_samples, ensure_min_features, estimator)\u001b[0m\n\u001b[0;32m    798\u001b[0m \u001b[1;33m\u001b[0m\u001b[0m\n\u001b[0;32m    799\u001b[0m         \u001b[1;32mif\u001b[0m \u001b[0mforce_all_finite\u001b[0m\u001b[1;33m:\u001b[0m\u001b[1;33m\u001b[0m\u001b[1;33m\u001b[0m\u001b[0m\n\u001b[1;32m--> 800\u001b[1;33m             \u001b[0m_assert_all_finite\u001b[0m\u001b[1;33m(\u001b[0m\u001b[0marray\u001b[0m\u001b[1;33m,\u001b[0m \u001b[0mallow_nan\u001b[0m\u001b[1;33m=\u001b[0m\u001b[0mforce_all_finite\u001b[0m \u001b[1;33m==\u001b[0m \u001b[1;34m\"allow-nan\"\u001b[0m\u001b[1;33m)\u001b[0m\u001b[1;33m\u001b[0m\u001b[1;33m\u001b[0m\u001b[0m\n\u001b[0m\u001b[0;32m    801\u001b[0m \u001b[1;33m\u001b[0m\u001b[0m\n\u001b[0;32m    802\u001b[0m     \u001b[1;32mif\u001b[0m \u001b[0mensure_min_samples\u001b[0m \u001b[1;33m>\u001b[0m \u001b[1;36m0\u001b[0m\u001b[1;33m:\u001b[0m\u001b[1;33m\u001b[0m\u001b[1;33m\u001b[0m\u001b[0m\n",
      "\u001b[1;32mC:\\eduard\\uni\\Softwares\\anaconda\\To_install\\lib\\site-packages\\sklearn\\utils\\validation.py\u001b[0m in \u001b[0;36m_assert_all_finite\u001b[1;34m(X, allow_nan, msg_dtype)\u001b[0m\n\u001b[0;32m    112\u001b[0m         ):\n\u001b[0;32m    113\u001b[0m             \u001b[0mtype_err\u001b[0m \u001b[1;33m=\u001b[0m \u001b[1;34m\"infinity\"\u001b[0m \u001b[1;32mif\u001b[0m \u001b[0mallow_nan\u001b[0m \u001b[1;32melse\u001b[0m \u001b[1;34m\"NaN, infinity\"\u001b[0m\u001b[1;33m\u001b[0m\u001b[1;33m\u001b[0m\u001b[0m\n\u001b[1;32m--> 114\u001b[1;33m             raise ValueError(\n\u001b[0m\u001b[0;32m    115\u001b[0m                 msg_err.format(\n\u001b[0;32m    116\u001b[0m                     \u001b[0mtype_err\u001b[0m\u001b[1;33m,\u001b[0m \u001b[0mmsg_dtype\u001b[0m \u001b[1;32mif\u001b[0m \u001b[0mmsg_dtype\u001b[0m \u001b[1;32mis\u001b[0m \u001b[1;32mnot\u001b[0m \u001b[1;32mNone\u001b[0m \u001b[1;32melse\u001b[0m \u001b[0mX\u001b[0m\u001b[1;33m.\u001b[0m\u001b[0mdtype\u001b[0m\u001b[1;33m\u001b[0m\u001b[1;33m\u001b[0m\u001b[0m\n",
      "\u001b[1;31mValueError\u001b[0m: Input contains NaN, infinity or a value too large for dtype('float32')."
     ]
    }
   ],
   "source": [
    "predictions = clf.predict_proba(final_df)[:,1]\n",
    "submission = pd.DataFrame({\"order_id\": df_test.order_id, \"late_order\": predictions})\n",
    "submission.to_csv(\"submission_kaggle.csv\", index=False)"
   ]
  },
  {
   "cell_type": "code",
   "execution_count": 235,
   "metadata": {},
   "outputs": [
    {
     "data": {
      "text/plain": [
       "28518"
      ]
     },
     "execution_count": 235,
     "metadata": {},
     "output_type": "execute_result"
    }
   ],
   "source": [
    "len(predictions)"
   ]
  },
  {
   "cell_type": "code",
   "execution_count": 236,
   "metadata": {},
   "outputs": [
    {
     "data": {
      "text/plain": [
       "28563"
      ]
     },
     "execution_count": 236,
     "metadata": {},
     "output_type": "execute_result"
    }
   ],
   "source": [
    "len(df_test)"
   ]
  },
  {
   "cell_type": "code",
   "execution_count": null,
   "metadata": {},
   "outputs": [],
   "source": []
  }
 ],
 "metadata": {
  "kernelspec": {
   "display_name": "Python 3 (ipykernel)",
   "language": "python",
   "name": "python3"
  },
  "language_info": {
   "codemirror_mode": {
    "name": "ipython",
    "version": 3
   },
   "file_extension": ".py",
   "mimetype": "text/x-python",
   "name": "python",
   "nbconvert_exporter": "python",
   "pygments_lexer": "ipython3",
   "version": "3.10.6"
  }
 },
 "nbformat": 4,
 "nbformat_minor": 4
}
