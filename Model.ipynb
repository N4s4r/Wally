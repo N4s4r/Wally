{
 "cells": [
  {
   "cell_type": "code",
   "execution_count": 1,
   "id": "6e1ed77c-b63e-4537-b0e0-ad8cb7c81ae2",
   "metadata": {},
   "outputs": [],
   "source": [
    "import pandas as pd\n",
    "import numpy as np\n",
    "import matplotlib.pyplot as plt\n",
    "import seaborn as sns\n",
    "import random\n",
    "\n",
    "from sklearn.neural_network import MLPRegressor\n",
    "\n",
    "from sklearn.model_selection import train_test_split"
   ]
  },
  {
   "cell_type": "code",
   "execution_count": 22,
   "id": "7ff62dd0-d20d-4768-a9a9-aaec6ae9b8d1",
   "metadata": {},
   "outputs": [],
   "source": [
    "train = pd.read_csv(\"NEW_DATA/train.csv\")\n",
    "test = pd.read_csv(\"NEW_DATA/test.csv\")"
   ]
  },
  {
   "cell_type": "code",
   "execution_count": 15,
   "id": "51722294-247e-4681-94c6-c4e577b0b752",
   "metadata": {},
   "outputs": [
    {
     "name": "stdout",
     "output_type": "stream",
     "text": [
      "<class 'pandas.core.frame.DataFrame'>\n",
      "RangeIndex: 28563 entries, 0 to 28562\n",
      "Data columns (total 59 columns):\n",
      " #   Column               Non-Null Count  Dtype  \n",
      "---  ------               --------------  -----  \n",
      " 0   index                28563 non-null  int64  \n",
      " 1   units                28563 non-null  int64  \n",
      " 2   OP_Athens            28563 non-null  int64  \n",
      " 3   OP_Barcelona         28563 non-null  int64  \n",
      " 4   OP_Rotterdam         28563 non-null  int64  \n",
      " 5   3pl_v_001            28563 non-null  int64  \n",
      " 6   3pl_v_002            28563 non-null  int64  \n",
      " 7   3pl_v_003            28563 non-null  int64  \n",
      " 8   3pl_v_004            28563 non-null  int64  \n",
      " 9   CP_CRF               28563 non-null  int64  \n",
      " 10  CP_DTD               28563 non-null  int64  \n",
      " 11  CP_DTP               28563 non-null  int64  \n",
      " 12  LH_Bratislava        28563 non-null  int64  \n",
      " 13  LH_Dusseldorf        28563 non-null  int64  \n",
      " 14  LH_Hamburg           28563 non-null  int64  \n",
      " 15  LH_Liege             28563 non-null  int64  \n",
      " 16  LH_Lille             28563 non-null  int64  \n",
      " 17  LH_Rome              28563 non-null  int64  \n",
      " 18  LH_Venlo             28563 non-null  int64  \n",
      " 19  LH_Warsaw            28563 non-null  int64  \n",
      " 20  LH_Zaragoza          28563 non-null  int64  \n",
      " 21  customer_Amsterdam   28563 non-null  int64  \n",
      " 22  customer_Athens      28563 non-null  int64  \n",
      " 23  customer_Barcelona   28563 non-null  int64  \n",
      " 24  customer_Berlin      28563 non-null  int64  \n",
      " 25  customer_Bordeaux    28563 non-null  int64  \n",
      " 26  customer_Bremen      28563 non-null  int64  \n",
      " 27  customer_Bucharest   28563 non-null  int64  \n",
      " 28  customer_Budapest    28563 non-null  int64  \n",
      " 29  customer_Cologne     28563 non-null  int64  \n",
      " 30  customer_Copenhagen  28563 non-null  int64  \n",
      " 31  customer_Hanover     28563 non-null  int64  \n",
      " 32  customer_Helsinki    28563 non-null  int64  \n",
      " 33  customer_Lisbon      28563 non-null  int64  \n",
      " 34  customer_Lyon        28563 non-null  int64  \n",
      " 35  customer_Madrid      28563 non-null  int64  \n",
      " 36  customer_Malmö       28563 non-null  int64  \n",
      " 37  customer_Marseille   28563 non-null  int64  \n",
      " 38  customer_Milan       28563 non-null  int64  \n",
      " 39  customer_Munich      28563 non-null  int64  \n",
      " 40  customer_Naples      28563 non-null  int64  \n",
      " 41  customer_Paris       28563 non-null  int64  \n",
      " 42  customer_Porto       28563 non-null  int64  \n",
      " 43  customer_Prague      28563 non-null  int64  \n",
      " 44  customer_Rome        28563 non-null  int64  \n",
      " 45  customer_Stockholm   28563 non-null  int64  \n",
      " 46  customer_Turin       28563 non-null  int64  \n",
      " 47  customer_Valencia    28563 non-null  int64  \n",
      " 48  customer_Vienna      28563 non-null  int64  \n",
      " 49  OP_latitude          28563 non-null  float64\n",
      " 50  OP_longitude         28563 non-null  float64\n",
      " 51  LH_latitude          28298 non-null  float64\n",
      " 52  LH_longitude         28298 non-null  float64\n",
      " 53  customer_latitude    28563 non-null  float64\n",
      " 54  customer_longitude   28563 non-null  float64\n",
      " 55  distance1            28563 non-null  float64\n",
      " 56  distance2            28563 non-null  float64\n",
      " 57  weight               28563 non-null  float64\n",
      " 58  material_handling    28563 non-null  float64\n",
      "dtypes: float64(10), int64(49)\n",
      "memory usage: 12.9 MB\n"
     ]
    }
   ],
   "source": [
    "test.info()"
   ]
  },
  {
   "cell_type": "code",
   "execution_count": 3,
   "id": "b12370c2-4367-4d02-8278-02fe7a17d23b",
   "metadata": {},
   "outputs": [
    {
     "name": "stdout",
     "output_type": "stream",
     "text": [
      "29040 29040 29040\n",
      "27156\n"
     ]
    }
   ],
   "source": [
    "delayed = train[train.late_order == True]\n",
    "non_delayed = train[train.late_order == False]\n",
    "shuffled = list(non_delayed.index)\n",
    "random.shuffle(shuffled)\n",
    "items = len(shuffled)//3\n",
    "\n",
    "trucation_1 = shuffled[:items]\n",
    "trucation_2 = shuffled[items:items*2]\n",
    "trucation_3 = shuffled[items*2:]\n",
    "df_part1 = non_delayed[non_delayed.index.isin(trucation_1)]\n",
    "df_part2 = non_delayed[non_delayed.index.isin(trucation_2)]\n",
    "df_part3 = non_delayed[non_delayed.index.isin(trucation_3)]\n",
    "print(len(df_part1), len(df_part2), len(df_part3))\n",
    "print(len(delayed))"
   ]
  },
  {
   "cell_type": "code",
   "execution_count": 4,
   "id": "e20fc72c-0981-4cec-b91a-a5e54cba0169",
   "metadata": {},
   "outputs": [],
   "source": [
    "df1 = pd.concat([df_part1, delayed])\n",
    "df2 = pd.concat([df_part2, delayed])\n",
    "df3 = pd.concat([df_part3, delayed])\n",
    "\n",
    "df1.dropna(inplace=True)\n",
    "df2.dropna(inplace=True)\n",
    "df3.dropna(inplace=True)"
   ]
  },
  {
   "cell_type": "code",
   "execution_count": 5,
   "id": "b64a8c3c-c816-46fb-8332-eb2785c1943b",
   "metadata": {},
   "outputs": [],
   "source": [
    "train1, test1 = train_test_split(df1, test_size=0.2)"
   ]
  },
  {
   "cell_type": "code",
   "execution_count": 6,
   "id": "2d21160e-b306-4032-b965-a75d254624ed",
   "metadata": {},
   "outputs": [],
   "source": [
    "train1_x = train1.drop(columns=[\"late_order\"])\n",
    "train1_y = train1[\"late_order\"]\n",
    "test1_x = test1.drop(columns=[\"late_order\"])\n",
    "test1_y = test1[\"late_order\"]"
   ]
  },
  {
   "cell_type": "code",
   "execution_count": 7,
   "id": "8c1b6d6c-5e3f-485e-96f9-ebb954bfeb20",
   "metadata": {},
   "outputs": [
    {
     "name": "stderr",
     "output_type": "stream",
     "text": [
      "2022-11-13 04:15:44.472871: I tensorflow/core/platform/cpu_feature_guard.cc:193] This TensorFlow binary is optimized with oneAPI Deep Neural Network Library (oneDNN) to use the following CPU instructions in performance-critical operations:  AVX2 FMA\n",
      "To enable them in other operations, rebuild TensorFlow with the appropriate compiler flags.\n",
      "2022-11-13 04:15:44.620259: W tensorflow/stream_executor/platform/default/dso_loader.cc:64] Could not load dynamic library 'libcudart.so.11.0'; dlerror: libcudart.so.11.0: cannot open shared object file: No such file or directory\n",
      "2022-11-13 04:15:44.620284: I tensorflow/stream_executor/cuda/cudart_stub.cc:29] Ignore above cudart dlerror if you do not have a GPU set up on your machine.\n",
      "2022-11-13 04:15:44.655292: E tensorflow/stream_executor/cuda/cuda_blas.cc:2981] Unable to register cuBLAS factory: Attempting to register factory for plugin cuBLAS when one has already been registered\n",
      "2022-11-13 04:15:45.471787: W tensorflow/stream_executor/platform/default/dso_loader.cc:64] Could not load dynamic library 'libnvinfer.so.7'; dlerror: libnvinfer.so.7: cannot open shared object file: No such file or directory\n",
      "2022-11-13 04:15:45.471882: W tensorflow/stream_executor/platform/default/dso_loader.cc:64] Could not load dynamic library 'libnvinfer_plugin.so.7'; dlerror: libnvinfer_plugin.so.7: cannot open shared object file: No such file or directory\n",
      "2022-11-13 04:15:45.471891: W tensorflow/compiler/tf2tensorrt/utils/py_utils.cc:38] TF-TRT Warning: Cannot dlopen some TensorRT libraries. If you would like to use Nvidia GPU with TensorRT, please make sure the missing libraries mentioned above are installed properly.\n"
     ]
    }
   ],
   "source": [
    "import tensorflow as tf\n",
    "from scikeras.wrappers import KerasClassifier\n",
    "from sklearn.model_selection import cross_val_score\n",
    "from sklearn.preprocessing import LabelEncoder\n",
    "from sklearn.model_selection import StratifiedKFold\n",
    "from sklearn.preprocessing import StandardScaler\n",
    "from sklearn.pipeline import Pipeline"
   ]
  },
  {
   "cell_type": "code",
   "execution_count": 12,
   "id": "9b3ca65e-3679-4cd0-9f0a-e3bd8936591a",
   "metadata": {},
   "outputs": [],
   "source": [
    "model = tf.keras.Sequential([\n",
    "    tf.keras.layers.Dense(100, input_shape = (train1_x.shape[1],), activation=tf.nn.relu),\n",
    "    tf.keras.layers.Dense(100, activation=tf.nn.relu),\n",
    "    tf.keras.layers.Dense(100, activation=tf.nn.relu),\n",
    "    tf.keras.layers.Dense(100, activation=tf.nn.relu),\n",
    "    tf.keras.layers.Dense(100, activation=tf.nn.relu),\n",
    "    tf.keras.layers.Dense(100, activation=tf.nn.relu),\n",
    "    tf.keras.layers.Dense(100, activation=tf.nn.relu),\n",
    "    tf.keras.layers.Dense(1, activation=tf.nn.sigmoid)\n",
    "])\n",
    "model.compile(optimizer='adam',\n",
    "              loss='binary_crossentropy',\n",
    "              metrics=['accuracy'])"
   ]
  },
  {
   "cell_type": "code",
   "execution_count": 13,
   "id": "12b14bfb-d425-4370-b84d-ed6d5890389a",
   "metadata": {},
   "outputs": [
    {
     "name": "stdout",
     "output_type": "stream",
     "text": [
      "Epoch 1/30\n",
      "1391/1391 [==============================] - 5s 3ms/step - loss: 0.7023 - accuracy: 0.5974 - val_loss: 0.6353 - val_accuracy: 0.6387\n",
      "Epoch 2/30\n",
      "1391/1391 [==============================] - 4s 3ms/step - loss: 0.6234 - accuracy: 0.6512 - val_loss: 0.6063 - val_accuracy: 0.6742\n",
      "Epoch 3/30\n",
      "1391/1391 [==============================] - 4s 3ms/step - loss: 0.6040 - accuracy: 0.6687 - val_loss: 0.5955 - val_accuracy: 0.6752\n",
      "Epoch 4/30\n",
      "1391/1391 [==============================] - 4s 3ms/step - loss: 0.5933 - accuracy: 0.6787 - val_loss: 0.5783 - val_accuracy: 0.6843\n",
      "Epoch 5/30\n",
      "1391/1391 [==============================] - 4s 3ms/step - loss: 0.5906 - accuracy: 0.6788 - val_loss: 0.6135 - val_accuracy: 0.6628\n",
      "Epoch 6/30\n",
      "1391/1391 [==============================] - 4s 3ms/step - loss: 0.5859 - accuracy: 0.6852 - val_loss: 0.5709 - val_accuracy: 0.6992\n",
      "Epoch 7/30\n",
      "1391/1391 [==============================] - 4s 3ms/step - loss: 0.5806 - accuracy: 0.6875 - val_loss: 0.5816 - val_accuracy: 0.6865\n",
      "Epoch 8/30\n",
      "1391/1391 [==============================] - 4s 3ms/step - loss: 0.5769 - accuracy: 0.6943 - val_loss: 0.5863 - val_accuracy: 0.6812\n",
      "Epoch 9/30\n",
      "1391/1391 [==============================] - 4s 3ms/step - loss: 0.5746 - accuracy: 0.6946 - val_loss: 0.5673 - val_accuracy: 0.7011\n",
      "Epoch 10/30\n",
      "1391/1391 [==============================] - 4s 3ms/step - loss: 0.5712 - accuracy: 0.6979 - val_loss: 0.5722 - val_accuracy: 0.6951\n",
      "Epoch 11/30\n",
      "1391/1391 [==============================] - 4s 3ms/step - loss: 0.5686 - accuracy: 0.7008 - val_loss: 0.5764 - val_accuracy: 0.6959\n",
      "Epoch 12/30\n",
      "1391/1391 [==============================] - 5s 3ms/step - loss: 0.5671 - accuracy: 0.7009 - val_loss: 0.5604 - val_accuracy: 0.7063\n",
      "Epoch 13/30\n",
      "1391/1391 [==============================] - 5s 4ms/step - loss: 0.5634 - accuracy: 0.7038 - val_loss: 0.5609 - val_accuracy: 0.7048\n",
      "Epoch 14/30\n",
      "1391/1391 [==============================] - 5s 4ms/step - loss: 0.5610 - accuracy: 0.7039 - val_loss: 0.5486 - val_accuracy: 0.7116\n",
      "Epoch 15/30\n",
      "1391/1391 [==============================] - 4s 3ms/step - loss: 0.5596 - accuracy: 0.7068 - val_loss: 0.5497 - val_accuracy: 0.7119\n",
      "Epoch 16/30\n",
      "1391/1391 [==============================] - 4s 3ms/step - loss: 0.5577 - accuracy: 0.7098 - val_loss: 0.5528 - val_accuracy: 0.7094\n",
      "Epoch 17/30\n",
      "1391/1391 [==============================] - 4s 3ms/step - loss: 0.5556 - accuracy: 0.7109 - val_loss: 0.5482 - val_accuracy: 0.7115\n",
      "Epoch 18/30\n",
      "1391/1391 [==============================] - 5s 4ms/step - loss: 0.5563 - accuracy: 0.7083 - val_loss: 0.5589 - val_accuracy: 0.6995\n",
      "Epoch 19/30\n",
      "1391/1391 [==============================] - 5s 4ms/step - loss: 0.5537 - accuracy: 0.7115 - val_loss: 0.6040 - val_accuracy: 0.6830\n",
      "Epoch 20/30\n",
      "1391/1391 [==============================] - 4s 3ms/step - loss: 0.5536 - accuracy: 0.7111 - val_loss: 0.5388 - val_accuracy: 0.7217\n",
      "Epoch 21/30\n",
      "1391/1391 [==============================] - 4s 3ms/step - loss: 0.5517 - accuracy: 0.7139 - val_loss: 0.5489 - val_accuracy: 0.7155\n",
      "Epoch 22/30\n",
      "1391/1391 [==============================] - 4s 3ms/step - loss: 0.5515 - accuracy: 0.7123 - val_loss: 0.5443 - val_accuracy: 0.7153\n",
      "Epoch 23/30\n",
      "1391/1391 [==============================] - 5s 3ms/step - loss: 0.5510 - accuracy: 0.7132 - val_loss: 0.5409 - val_accuracy: 0.7204\n",
      "Epoch 24/30\n",
      "1391/1391 [==============================] - 5s 4ms/step - loss: 0.5500 - accuracy: 0.7142 - val_loss: 0.5414 - val_accuracy: 0.7207\n",
      "Epoch 25/30\n",
      "1391/1391 [==============================] - 4s 3ms/step - loss: 0.5496 - accuracy: 0.7144 - val_loss: 0.5582 - val_accuracy: 0.7035\n",
      "Epoch 26/30\n",
      "1391/1391 [==============================] - 4s 3ms/step - loss: 0.5519 - accuracy: 0.7127 - val_loss: 0.5473 - val_accuracy: 0.7166\n",
      "Epoch 27/30\n",
      "1391/1391 [==============================] - 5s 3ms/step - loss: 0.5492 - accuracy: 0.7165 - val_loss: 0.5445 - val_accuracy: 0.7174\n",
      "Epoch 28/30\n",
      "1391/1391 [==============================] - 5s 4ms/step - loss: 0.5486 - accuracy: 0.7153 - val_loss: 0.5535 - val_accuracy: 0.7172\n",
      "Epoch 29/30\n",
      "1391/1391 [==============================] - 4s 3ms/step - loss: 0.5506 - accuracy: 0.7154 - val_loss: 0.5410 - val_accuracy: 0.7222\n",
      "Epoch 30/30\n",
      "1391/1391 [==============================] - 5s 3ms/step - loss: 0.5483 - accuracy: 0.7160 - val_loss: 0.5397 - val_accuracy: 0.7216\n"
     ]
    },
    {
     "data": {
      "text/plain": [
       "<keras.callbacks.History at 0x7f14fc2dc8e0>"
      ]
     },
     "execution_count": 13,
     "metadata": {},
     "output_type": "execute_result"
    }
   ],
   "source": [
    "model.fit(x=train1_x,y=train1_y, epochs = 30, validation_data=(test1_x, test1_y))"
   ]
  },
  {
   "cell_type": "code",
   "execution_count": 46,
   "id": "a32f989e-ee77-4744-8a2c-87610990c7f7",
   "metadata": {},
   "outputs": [
    {
     "name": "stdout",
     "output_type": "stream",
     "text": [
      "893/893 [==============================] - 1s 1ms/step\n"
     ]
    }
   ],
   "source": [
    "result = model.predict(test.drop(columns=[\"order_id\"]))"
   ]
  },
  {
   "cell_type": "code",
   "execution_count": 47,
   "id": "e60f0c93-6b03-4341-a493-d9eb3c08efe8",
   "metadata": {},
   "outputs": [],
   "source": [
    "result = [r[0] for r in result]\n",
    "\n",
    "submission = pd.DataFrame({\n",
    "    \"order_id\":list(test[\"order_id\"]),\n",
    "    \"late_order\":list(result)\n",
    "})\n",
    "\n",
    "submission.fillna(0, inplace=True)\n",
    "\n",
    "submission.to_csv(\"result.csv\", index=False)"
   ]
  },
  {
   "cell_type": "code",
   "execution_count": 48,
   "id": "0af1f993-3c49-4621-adbb-09418040c30a",
   "metadata": {},
   "outputs": [
    {
     "name": "stdout",
     "output_type": "stream",
     "text": [
      "<class 'pandas.core.frame.DataFrame'>\n",
      "RangeIndex: 28563 entries, 0 to 28562\n",
      "Data columns (total 2 columns):\n",
      " #   Column      Non-Null Count  Dtype  \n",
      "---  ------      --------------  -----  \n",
      " 0   order_id    28563 non-null  object \n",
      " 1   late_order  28563 non-null  float32\n",
      "dtypes: float32(1), object(1)\n",
      "memory usage: 334.8+ KB\n"
     ]
    }
   ],
   "source": [
    "submission.info()"
   ]
  },
  {
   "cell_type": "code",
   "execution_count": null,
   "id": "65886e30-3126-4d3c-aa46-2ffcecb789d9",
   "metadata": {},
   "outputs": [],
   "source": []
  }
 ],
 "metadata": {
  "kernelspec": {
   "display_name": "Python 3 (ipykernel)",
   "language": "python",
   "name": "python3"
  },
  "language_info": {
   "codemirror_mode": {
    "name": "ipython",
    "version": 3
   },
   "file_extension": ".py",
   "mimetype": "text/x-python",
   "name": "python",
   "nbconvert_exporter": "python",
   "pygments_lexer": "ipython3",
   "version": "3.10.6"
  }
 },
 "nbformat": 4,
 "nbformat_minor": 5
}
