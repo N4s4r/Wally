{
 "cells": [
  {
   "cell_type": "code",
   "execution_count": 1,
   "id": "6e1ed77c-b63e-4537-b0e0-ad8cb7c81ae2",
   "metadata": {},
   "outputs": [],
   "source": [
    "import pandas as pd\n",
    "import numpy as np\n",
    "import matplotlib.pyplot as plt\n",
    "import seaborn as sns\n",
    "import random\n",
    "\n",
    "from sklearn.neural_network import MLPRegressor\n",
    "\n",
    "from sklearn.model_selection import train_test_split"
   ]
  },
  {
   "cell_type": "code",
   "execution_count": 2,
   "id": "7ff62dd0-d20d-4768-a9a9-aaec6ae9b8d1",
   "metadata": {},
   "outputs": [],
   "source": [
    "train = pd.read_csv(\"NEW_DATA/train.csv\")\n",
    "test = pd.read_csv(\"NEW_DATA/test.csv\")"
   ]
  },
  {
   "cell_type": "code",
   "execution_count": 3,
   "id": "51722294-247e-4681-94c6-c4e577b0b752",
   "metadata": {},
   "outputs": [
    {
     "name": "stdout",
     "output_type": "stream",
     "text": [
      "<class 'pandas.core.frame.DataFrame'>\n",
      "RangeIndex: 28563 entries, 0 to 28562\n",
      "Data columns (total 64 columns):\n",
      " #   Column               Non-Null Count  Dtype  \n",
      "---  ------               --------------  -----  \n",
      " 0   order_id             28563 non-null  object \n",
      " 1   units                28563 non-null  int64  \n",
      " 2   OP_latitude          28563 non-null  float64\n",
      " 3   OP_longitude         28563 non-null  float64\n",
      " 4   LH_latitude          28298 non-null  float64\n",
      " 5   LH_longitude         28298 non-null  float64\n",
      " 6   customer_latitude    28563 non-null  float64\n",
      " 7   customer_longitude   28563 non-null  float64\n",
      " 8   distance1            28563 non-null  float64\n",
      " 9   distance2            28563 non-null  float64\n",
      " 10  weight               28563 non-null  float64\n",
      " 11  OP_Athens            28563 non-null  int64  \n",
      " 12  OP_Barcelona         28563 non-null  int64  \n",
      " 13  OP_Rotterdam         28563 non-null  int64  \n",
      " 14  3pl_v_001            28563 non-null  int64  \n",
      " 15  3pl_v_002            28563 non-null  int64  \n",
      " 16  3pl_v_003            28563 non-null  int64  \n",
      " 17  3pl_v_004            28563 non-null  int64  \n",
      " 18  CP_CRF               28563 non-null  int64  \n",
      " 19  CP_DTD               28563 non-null  int64  \n",
      " 20  CP_DTP               28563 non-null  int64  \n",
      " 21  LH_Bratislava        28563 non-null  int64  \n",
      " 22  LH_Dusseldorf        28563 non-null  int64  \n",
      " 23  LH_Hamburg           28563 non-null  int64  \n",
      " 24  LH_Liege             28563 non-null  int64  \n",
      " 25  LH_Lille             28563 non-null  int64  \n",
      " 26  LH_Rome              28563 non-null  int64  \n",
      " 27  LH_Venlo             28563 non-null  int64  \n",
      " 28  LH_Warsaw            28563 non-null  int64  \n",
      " 29  LH_Zaragoza          28563 non-null  int64  \n",
      " 30  customer_Amsterdam   28563 non-null  int64  \n",
      " 31  customer_Athens      28563 non-null  int64  \n",
      " 32  customer_Barcelona   28563 non-null  int64  \n",
      " 33  customer_Berlin      28563 non-null  int64  \n",
      " 34  customer_Bordeaux    28563 non-null  int64  \n",
      " 35  customer_Bremen      28563 non-null  int64  \n",
      " 36  customer_Bucharest   28563 non-null  int64  \n",
      " 37  customer_Budapest    28563 non-null  int64  \n",
      " 38  customer_Cologne     28563 non-null  int64  \n",
      " 39  customer_Copenhagen  28563 non-null  int64  \n",
      " 40  customer_Hanover     28563 non-null  int64  \n",
      " 41  customer_Helsinki    28563 non-null  int64  \n",
      " 42  customer_Lisbon      28563 non-null  int64  \n",
      " 43  customer_Lyon        28563 non-null  int64  \n",
      " 44  customer_Madrid      28563 non-null  int64  \n",
      " 45  customer_Malmö       28563 non-null  int64  \n",
      " 46  customer_Marseille   28563 non-null  int64  \n",
      " 47  customer_Milan       28563 non-null  int64  \n",
      " 48  customer_Munich      28563 non-null  int64  \n",
      " 49  customer_Naples      28563 non-null  int64  \n",
      " 50  customer_Paris       28563 non-null  int64  \n",
      " 51  customer_Porto       28563 non-null  int64  \n",
      " 52  customer_Prague      28563 non-null  int64  \n",
      " 53  customer_Rome        28563 non-null  int64  \n",
      " 54  customer_Stockholm   28563 non-null  int64  \n",
      " 55  customer_Turin       28563 non-null  int64  \n",
      " 56  customer_Valencia    28563 non-null  int64  \n",
      " 57  customer_Vienna      28563 non-null  int64  \n",
      " 58  MH_0.0               28563 non-null  int64  \n",
      " 59  MH_1.0               28563 non-null  int64  \n",
      " 60  MH_2.0               28563 non-null  int64  \n",
      " 61  MH_3.0               28563 non-null  int64  \n",
      " 62  MH_4.0               28563 non-null  int64  \n",
      " 63  MH_5.0               28563 non-null  int64  \n",
      "dtypes: float64(9), int64(54), object(1)\n",
      "memory usage: 13.9+ MB\n"
     ]
    }
   ],
   "source": [
    "test.info()"
   ]
  },
  {
   "cell_type": "code",
   "execution_count": 4,
   "id": "b12370c2-4367-4d02-8278-02fe7a17d23b",
   "metadata": {},
   "outputs": [
    {
     "name": "stdout",
     "output_type": "stream",
     "text": [
      "29040 29040 29040\n",
      "27156\n"
     ]
    }
   ],
   "source": [
    "delayed = train[train.late_order == True]\n",
    "non_delayed = train[train.late_order == False]\n",
    "shuffled = list(non_delayed.index)\n",
    "random.shuffle(shuffled)\n",
    "items = len(shuffled)//3\n",
    "\n",
    "trucation_1 = shuffled[:items]\n",
    "trucation_2 = shuffled[items:items*2]\n",
    "trucation_3 = shuffled[items*2:]\n",
    "df_part1 = non_delayed[non_delayed.index.isin(trucation_1)]\n",
    "df_part2 = non_delayed[non_delayed.index.isin(trucation_2)]\n",
    "df_part3 = non_delayed[non_delayed.index.isin(trucation_3)]\n",
    "print(len(df_part1), len(df_part2), len(df_part3))\n",
    "print(len(delayed))"
   ]
  },
  {
   "cell_type": "code",
   "execution_count": 5,
   "id": "e20fc72c-0981-4cec-b91a-a5e54cba0169",
   "metadata": {},
   "outputs": [],
   "source": [
    "df1 = pd.concat([df_part1, delayed])\n",
    "df2 = pd.concat([df_part2, delayed])\n",
    "df3 = pd.concat([df_part3, delayed])\n",
    "\n",
    "df1.dropna(inplace=True)\n",
    "df2.dropna(inplace=True)\n",
    "df3.dropna(inplace=True)"
   ]
  },
  {
   "cell_type": "code",
   "execution_count": 6,
   "id": "b64a8c3c-c816-46fb-8332-eb2785c1943b",
   "metadata": {},
   "outputs": [],
   "source": [
    "train1, test1 = train_test_split(df1, test_size=0.2)"
   ]
  },
  {
   "cell_type": "code",
   "execution_count": 7,
   "id": "2d21160e-b306-4032-b965-a75d254624ed",
   "metadata": {},
   "outputs": [],
   "source": [
    "train1_x = train1.drop(columns=[\"late_order\"])\n",
    "train1_y = train1[\"late_order\"]\n",
    "test1_x = test1.drop(columns=[\"late_order\"])\n",
    "test1_y = test1[\"late_order\"]"
   ]
  },
  {
   "cell_type": "code",
   "execution_count": 8,
   "id": "8c1b6d6c-5e3f-485e-96f9-ebb954bfeb20",
   "metadata": {},
   "outputs": [
    {
     "name": "stderr",
     "output_type": "stream",
     "text": [
      "2022-11-13 06:33:27.026045: I tensorflow/core/platform/cpu_feature_guard.cc:193] This TensorFlow binary is optimized with oneAPI Deep Neural Network Library (oneDNN) to use the following CPU instructions in performance-critical operations:  AVX2 FMA\n",
      "To enable them in other operations, rebuild TensorFlow with the appropriate compiler flags.\n",
      "2022-11-13 06:33:27.189911: W tensorflow/stream_executor/platform/default/dso_loader.cc:64] Could not load dynamic library 'libcudart.so.11.0'; dlerror: libcudart.so.11.0: cannot open shared object file: No such file or directory\n",
      "2022-11-13 06:33:27.189928: I tensorflow/stream_executor/cuda/cudart_stub.cc:29] Ignore above cudart dlerror if you do not have a GPU set up on your machine.\n",
      "2022-11-13 06:33:27.219382: E tensorflow/stream_executor/cuda/cuda_blas.cc:2981] Unable to register cuBLAS factory: Attempting to register factory for plugin cuBLAS when one has already been registered\n",
      "2022-11-13 06:33:28.104775: W tensorflow/stream_executor/platform/default/dso_loader.cc:64] Could not load dynamic library 'libnvinfer.so.7'; dlerror: libnvinfer.so.7: cannot open shared object file: No such file or directory\n",
      "2022-11-13 06:33:28.104892: W tensorflow/stream_executor/platform/default/dso_loader.cc:64] Could not load dynamic library 'libnvinfer_plugin.so.7'; dlerror: libnvinfer_plugin.so.7: cannot open shared object file: No such file or directory\n",
      "2022-11-13 06:33:28.104902: W tensorflow/compiler/tf2tensorrt/utils/py_utils.cc:38] TF-TRT Warning: Cannot dlopen some TensorRT libraries. If you would like to use Nvidia GPU with TensorRT, please make sure the missing libraries mentioned above are installed properly.\n"
     ]
    }
   ],
   "source": [
    "import tensorflow as tf\n",
    "from scikeras.wrappers import KerasClassifier\n",
    "from sklearn.model_selection import cross_val_score\n",
    "from sklearn.preprocessing import LabelEncoder\n",
    "from sklearn.model_selection import StratifiedKFold\n",
    "from sklearn.preprocessing import StandardScaler\n",
    "from sklearn.pipeline import Pipeline"
   ]
  },
  {
   "cell_type": "code",
   "execution_count": 9,
   "id": "9b3ca65e-3679-4cd0-9f0a-e3bd8936591a",
   "metadata": {},
   "outputs": [
    {
     "name": "stderr",
     "output_type": "stream",
     "text": [
      "2022-11-13 06:33:28.814285: W tensorflow/stream_executor/platform/default/dso_loader.cc:64] Could not load dynamic library 'libcuda.so.1'; dlerror: libcuda.so.1: cannot open shared object file: No such file or directory\n",
      "2022-11-13 06:33:28.814314: W tensorflow/stream_executor/cuda/cuda_driver.cc:263] failed call to cuInit: UNKNOWN ERROR (303)\n",
      "2022-11-13 06:33:28.814339: I tensorflow/stream_executor/cuda/cuda_diagnostics.cc:156] kernel driver does not appear to be running on this host (Nasar-Ubuntu-HP): /proc/driver/nvidia/version does not exist\n",
      "2022-11-13 06:33:28.814535: I tensorflow/core/platform/cpu_feature_guard.cc:193] This TensorFlow binary is optimized with oneAPI Deep Neural Network Library (oneDNN) to use the following CPU instructions in performance-critical operations:  AVX2 FMA\n",
      "To enable them in other operations, rebuild TensorFlow with the appropriate compiler flags.\n"
     ]
    }
   ],
   "source": [
    "model = tf.keras.Sequential([\n",
    "    tf.keras.layers.Dense(100, input_shape = (train1_x.shape[1],), activation=tf.nn.relu),\n",
    "    tf.keras.layers.Dense(100, activation=tf.nn.relu),\n",
    "    tf.keras.layers.Dense(100, activation=tf.nn.relu),\n",
    "    tf.keras.layers.Dense(100, activation=tf.nn.relu),\n",
    "    tf.keras.layers.Dense(100, activation=tf.nn.relu),\n",
    "    tf.keras.layers.Dense(100, activation=tf.nn.relu),\n",
    "    tf.keras.layers.Dense(100, activation=tf.nn.relu),\n",
    "    tf.keras.layers.Dense(1, activation=tf.nn.sigmoid)\n",
    "])\n",
    "model.compile(optimizer='adam',\n",
    "              loss='binary_crossentropy',\n",
    "              metrics=['accuracy'])"
   ]
  },
  {
   "cell_type": "code",
   "execution_count": 10,
   "id": "12b14bfb-d425-4370-b84d-ed6d5890389a",
   "metadata": {},
   "outputs": [
    {
     "name": "stdout",
     "output_type": "stream",
     "text": [
      "Epoch 1/30\n"
     ]
    },
    {
     "name": "stderr",
     "output_type": "stream",
     "text": [
      "2022-11-13 06:33:29.138405: W tensorflow/core/framework/cpu_allocator_impl.cc:82] Allocation of 22432032 exceeds 10% of free system memory.\n"
     ]
    },
    {
     "name": "stdout",
     "output_type": "stream",
     "text": [
      "1391/1391 [==============================] - 5s 3ms/step - loss: 0.7239 - accuracy: 0.5943 - val_loss: 0.6363 - val_accuracy: 0.6368\n",
      "Epoch 2/30\n",
      "1391/1391 [==============================] - 4s 3ms/step - loss: 0.6308 - accuracy: 0.6427 - val_loss: 0.6355 - val_accuracy: 0.6368\n",
      "Epoch 3/30\n",
      "1391/1391 [==============================] - 4s 3ms/step - loss: 0.6033 - accuracy: 0.6674 - val_loss: 0.6018 - val_accuracy: 0.6701\n",
      "Epoch 4/30\n",
      "1391/1391 [==============================] - 4s 3ms/step - loss: 0.5907 - accuracy: 0.6789 - val_loss: 0.5821 - val_accuracy: 0.6882\n",
      "Epoch 5/30\n",
      "1391/1391 [==============================] - 4s 3ms/step - loss: 0.5847 - accuracy: 0.6836 - val_loss: 0.5713 - val_accuracy: 0.6977\n",
      "Epoch 6/30\n",
      "1391/1391 [==============================] - 4s 3ms/step - loss: 0.5794 - accuracy: 0.6886 - val_loss: 0.5727 - val_accuracy: 0.6982\n",
      "Epoch 7/30\n",
      "1391/1391 [==============================] - 4s 3ms/step - loss: 0.5755 - accuracy: 0.6926 - val_loss: 0.5762 - val_accuracy: 0.6888\n",
      "Epoch 8/30\n",
      "1391/1391 [==============================] - 4s 3ms/step - loss: 0.5731 - accuracy: 0.6946 - val_loss: 0.5657 - val_accuracy: 0.7017\n",
      "Epoch 9/30\n",
      "1391/1391 [==============================] - 4s 3ms/step - loss: 0.5685 - accuracy: 0.7003 - val_loss: 0.5541 - val_accuracy: 0.7093\n",
      "Epoch 10/30\n",
      "1391/1391 [==============================] - 5s 3ms/step - loss: 0.5645 - accuracy: 0.7009 - val_loss: 0.5525 - val_accuracy: 0.7133\n",
      "Epoch 11/30\n",
      "1391/1391 [==============================] - 4s 3ms/step - loss: 0.5607 - accuracy: 0.7044 - val_loss: 0.5690 - val_accuracy: 0.6941\n",
      "Epoch 12/30\n",
      "1391/1391 [==============================] - 4s 3ms/step - loss: 0.5581 - accuracy: 0.7081 - val_loss: 0.5585 - val_accuracy: 0.7066\n",
      "Epoch 13/30\n",
      "1391/1391 [==============================] - 4s 3ms/step - loss: 0.5535 - accuracy: 0.7109 - val_loss: 0.5776 - val_accuracy: 0.6950\n",
      "Epoch 14/30\n",
      "1391/1391 [==============================] - 4s 3ms/step - loss: 0.5559 - accuracy: 0.7083 - val_loss: 0.5437 - val_accuracy: 0.7186\n",
      "Epoch 15/30\n",
      "1391/1391 [==============================] - 4s 3ms/step - loss: 0.5501 - accuracy: 0.7152 - val_loss: 0.5593 - val_accuracy: 0.7070\n",
      "Epoch 16/30\n",
      "1391/1391 [==============================] - 4s 3ms/step - loss: 0.5493 - accuracy: 0.7149 - val_loss: 0.5439 - val_accuracy: 0.7197\n",
      "Epoch 17/30\n",
      "1391/1391 [==============================] - 4s 3ms/step - loss: 0.5472 - accuracy: 0.7168 - val_loss: 0.5620 - val_accuracy: 0.7010\n",
      "Epoch 18/30\n",
      "1391/1391 [==============================] - 4s 3ms/step - loss: 0.5472 - accuracy: 0.7190 - val_loss: 0.5379 - val_accuracy: 0.7222\n",
      "Epoch 19/30\n",
      "1391/1391 [==============================] - 4s 3ms/step - loss: 0.5456 - accuracy: 0.7172 - val_loss: 0.5361 - val_accuracy: 0.7263\n",
      "Epoch 20/30\n",
      "1391/1391 [==============================] - 4s 3ms/step - loss: 0.5456 - accuracy: 0.7198 - val_loss: 0.5407 - val_accuracy: 0.7217\n",
      "Epoch 21/30\n",
      "1391/1391 [==============================] - 4s 3ms/step - loss: 0.5444 - accuracy: 0.7175 - val_loss: 0.5427 - val_accuracy: 0.7170\n",
      "Epoch 22/30\n",
      "1391/1391 [==============================] - 4s 3ms/step - loss: 0.5451 - accuracy: 0.7194 - val_loss: 0.5406 - val_accuracy: 0.7224\n",
      "Epoch 23/30\n",
      "1391/1391 [==============================] - 4s 3ms/step - loss: 0.5424 - accuracy: 0.7203 - val_loss: 0.5417 - val_accuracy: 0.7184\n",
      "Epoch 24/30\n",
      "1391/1391 [==============================] - 4s 3ms/step - loss: 0.5430 - accuracy: 0.7187 - val_loss: 0.5349 - val_accuracy: 0.7274\n",
      "Epoch 25/30\n",
      "1391/1391 [==============================] - 4s 3ms/step - loss: 0.5428 - accuracy: 0.7191 - val_loss: 0.5408 - val_accuracy: 0.7267\n",
      "Epoch 26/30\n",
      "1391/1391 [==============================] - 4s 3ms/step - loss: 0.5413 - accuracy: 0.7236 - val_loss: 0.5405 - val_accuracy: 0.7194\n",
      "Epoch 27/30\n",
      "1391/1391 [==============================] - 4s 3ms/step - loss: 0.5418 - accuracy: 0.7220 - val_loss: 0.5479 - val_accuracy: 0.7122\n",
      "Epoch 28/30\n",
      "1391/1391 [==============================] - 4s 3ms/step - loss: 0.5402 - accuracy: 0.7225 - val_loss: 0.5358 - val_accuracy: 0.7221\n",
      "Epoch 29/30\n",
      "1391/1391 [==============================] - 4s 3ms/step - loss: 0.5415 - accuracy: 0.7226 - val_loss: 0.5379 - val_accuracy: 0.7239\n",
      "Epoch 30/30\n",
      "1391/1391 [==============================] - 4s 3ms/step - loss: 0.5413 - accuracy: 0.7205 - val_loss: 0.5364 - val_accuracy: 0.7290\n"
     ]
    },
    {
     "data": {
      "text/plain": [
       "<keras.callbacks.History at 0x7f26a9b52110>"
      ]
     },
     "execution_count": 10,
     "metadata": {},
     "output_type": "execute_result"
    }
   ],
   "source": [
    "model.fit(x=train1_x,y=train1_y, epochs = 30, validation_data=(test1_x, test1_y))"
   ]
  },
  {
   "cell_type": "code",
   "execution_count": 11,
   "id": "a32f989e-ee77-4744-8a2c-87610990c7f7",
   "metadata": {},
   "outputs": [
    {
     "name": "stdout",
     "output_type": "stream",
     "text": [
      "893/893 [==============================] - 1s 1ms/step\n"
     ]
    }
   ],
   "source": [
    "result = model.predict(test.drop(columns=[\"order_id\"]))"
   ]
  },
  {
   "cell_type": "code",
   "execution_count": 12,
   "id": "e60f0c93-6b03-4341-a493-d9eb3c08efe8",
   "metadata": {},
   "outputs": [],
   "source": [
    "result = [r[0] for r in result]\n",
    "\n",
    "submission = pd.DataFrame({\n",
    "    \"order_id\":list(test[\"order_id\"]),\n",
    "    \"late_order\":list(result)\n",
    "})\n",
    "\n",
    "submission.fillna(0, inplace=True)\n",
    "\n",
    "submission.to_csv(\"result.csv\", index=False)"
   ]
  },
  {
   "cell_type": "code",
   "execution_count": 13,
   "id": "0af1f993-3c49-4621-adbb-09418040c30a",
   "metadata": {},
   "outputs": [
    {
     "name": "stdout",
     "output_type": "stream",
     "text": [
      "<class 'pandas.core.frame.DataFrame'>\n",
      "RangeIndex: 28563 entries, 0 to 28562\n",
      "Data columns (total 2 columns):\n",
      " #   Column      Non-Null Count  Dtype  \n",
      "---  ------      --------------  -----  \n",
      " 0   order_id    28563 non-null  object \n",
      " 1   late_order  28563 non-null  float32\n",
      "dtypes: float32(1), object(1)\n",
      "memory usage: 334.8+ KB\n"
     ]
    }
   ],
   "source": [
    "submission.info()"
   ]
  },
  {
   "cell_type": "code",
   "execution_count": null,
   "id": "65886e30-3126-4d3c-aa46-2ffcecb789d9",
   "metadata": {},
   "outputs": [],
   "source": []
  }
 ],
 "metadata": {
  "kernelspec": {
   "display_name": "Python 3 (ipykernel)",
   "language": "python",
   "name": "python3"
  },
  "language_info": {
   "codemirror_mode": {
    "name": "ipython",
    "version": 3
   },
   "file_extension": ".py",
   "mimetype": "text/x-python",
   "name": "python",
   "nbconvert_exporter": "python",
   "pygments_lexer": "ipython3",
   "version": "3.10.6"
  }
 },
 "nbformat": 4,
 "nbformat_minor": 5
}
